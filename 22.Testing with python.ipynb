{
 "cells": [
  {
   "cell_type": "markdown",
   "metadata": {},
   "source": [
    "### Assertions"
   ]
  },
  {
   "cell_type": "code",
   "execution_count": 1,
   "metadata": {},
   "outputs": [
    {
     "name": "stdout",
     "output_type": "stream",
     "text": [
      "4\n"
     ]
    },
    {
     "ename": "AssertionError",
     "evalue": "Both number must be positive!",
     "output_type": "error",
     "traceback": [
      "\u001b[1;31m---------------------------------------------------------------------------\u001b[0m",
      "\u001b[1;31mAssertionError\u001b[0m                            Traceback (most recent call last)",
      "\u001b[1;32m<ipython-input-1-a01c2fdf689a>\u001b[0m in \u001b[0;36m<module>\u001b[1;34m()\u001b[0m\n\u001b[0;32m      3\u001b[0m     \u001b[1;32mreturn\u001b[0m \u001b[0mx\u001b[0m \u001b[1;33m+\u001b[0m \u001b[0my\u001b[0m\u001b[1;33m\u001b[0m\u001b[0m\n\u001b[0;32m      4\u001b[0m \u001b[0mprint\u001b[0m\u001b[1;33m(\u001b[0m\u001b[0madd_positive_number\u001b[0m\u001b[1;33m(\u001b[0m\u001b[1;36m2\u001b[0m\u001b[1;33m,\u001b[0m\u001b[1;36m2\u001b[0m\u001b[1;33m)\u001b[0m\u001b[1;33m)\u001b[0m  \u001b[1;31m# 4\u001b[0m\u001b[1;33m\u001b[0m\u001b[0m\n\u001b[1;32m----> 5\u001b[1;33m \u001b[0mprint\u001b[0m\u001b[1;33m(\u001b[0m\u001b[0madd_positive_number\u001b[0m\u001b[1;33m(\u001b[0m\u001b[1;33m-\u001b[0m\u001b[1;36m2\u001b[0m\u001b[1;33m,\u001b[0m\u001b[1;36m2\u001b[0m\u001b[1;33m)\u001b[0m\u001b[1;33m)\u001b[0m \u001b[1;31m# assert error: both number must be +ve\u001b[0m\u001b[1;33m\u001b[0m\u001b[0m\n\u001b[0m",
      "\u001b[1;32m<ipython-input-1-a01c2fdf689a>\u001b[0m in \u001b[0;36madd_positive_number\u001b[1;34m(x, y)\u001b[0m\n\u001b[0;32m      1\u001b[0m \u001b[1;32mdef\u001b[0m \u001b[0madd_positive_number\u001b[0m\u001b[1;33m(\u001b[0m\u001b[0mx\u001b[0m\u001b[1;33m,\u001b[0m \u001b[0my\u001b[0m\u001b[1;33m)\u001b[0m\u001b[1;33m:\u001b[0m\u001b[1;33m\u001b[0m\u001b[0m\n\u001b[1;32m----> 2\u001b[1;33m     \u001b[1;32massert\u001b[0m \u001b[0mx\u001b[0m \u001b[1;33m>\u001b[0m \u001b[1;36m0\u001b[0m \u001b[1;32mand\u001b[0m \u001b[0my\u001b[0m \u001b[1;33m>\u001b[0m \u001b[1;36m0\u001b[0m\u001b[1;33m,\u001b[0m \u001b[1;34m\"Both number must be positive!\"\u001b[0m\u001b[1;33m\u001b[0m\u001b[0m\n\u001b[0m\u001b[0;32m      3\u001b[0m     \u001b[1;32mreturn\u001b[0m \u001b[0mx\u001b[0m \u001b[1;33m+\u001b[0m \u001b[0my\u001b[0m\u001b[1;33m\u001b[0m\u001b[0m\n\u001b[0;32m      4\u001b[0m \u001b[0mprint\u001b[0m\u001b[1;33m(\u001b[0m\u001b[0madd_positive_number\u001b[0m\u001b[1;33m(\u001b[0m\u001b[1;36m2\u001b[0m\u001b[1;33m,\u001b[0m\u001b[1;36m2\u001b[0m\u001b[1;33m)\u001b[0m\u001b[1;33m)\u001b[0m  \u001b[1;31m# 4\u001b[0m\u001b[1;33m\u001b[0m\u001b[0m\n\u001b[0;32m      5\u001b[0m \u001b[0mprint\u001b[0m\u001b[1;33m(\u001b[0m\u001b[0madd_positive_number\u001b[0m\u001b[1;33m(\u001b[0m\u001b[1;33m-\u001b[0m\u001b[1;36m2\u001b[0m\u001b[1;33m,\u001b[0m\u001b[1;36m2\u001b[0m\u001b[1;33m)\u001b[0m\u001b[1;33m)\u001b[0m \u001b[1;31m# assert error: both number must be +ve\u001b[0m\u001b[1;33m\u001b[0m\u001b[0m\n",
      "\u001b[1;31mAssertionError\u001b[0m: Both number must be positive!"
     ]
    }
   ],
   "source": [
    "def add_positive_number(x, y):\n",
    "    assert x > 0 and y > 0, \"Both number must be positive!\"\n",
    "    return x + y\n",
    "print(add_positive_number(2,2))  # 4\n",
    "print(add_positive_number(-2,2)) # assert error: both number must be +ve"
   ]
  },
  {
   "cell_type": "code",
   "execution_count": 2,
   "metadata": {},
   "outputs": [
    {
     "name": "stdout",
     "output_type": "stream",
     "text": [
      "Enter a food please:pizza\n",
      "Nom Nom i am eating pizza\n"
     ]
    }
   ],
   "source": [
    "def eat_junk(food):\n",
    "    assert food in [\"pizza\", \"ice cream\", \"candy\"], \"food must be junk food\"\n",
    "    return f\"Nom Nom i am eating {food}\"\n",
    "food = input(\"Enter a food please:\")\n",
    "print(eat_junk(food))"
   ]
  },
  {
   "cell_type": "code",
   "execution_count": 1,
   "metadata": {},
   "outputs": [
    {
     "name": "stdout",
     "output_type": "stream",
     "text": [
      "Enter a food please:chrispy\n"
     ]
    },
    {
     "ename": "AssertionError",
     "evalue": "food must be junk food",
     "output_type": "error",
     "traceback": [
      "\u001b[1;31m---------------------------------------------------------------------------\u001b[0m",
      "\u001b[1;31mAssertionError\u001b[0m                            Traceback (most recent call last)",
      "\u001b[1;32m<ipython-input-1-90347c82de36>\u001b[0m in \u001b[0;36m<module>\u001b[1;34m()\u001b[0m\n\u001b[0;32m      3\u001b[0m     \u001b[1;32mreturn\u001b[0m \u001b[1;34mf\"Nom Nom i am eating {food}\"\u001b[0m\u001b[1;33m\u001b[0m\u001b[0m\n\u001b[0;32m      4\u001b[0m \u001b[0mfood\u001b[0m \u001b[1;33m=\u001b[0m \u001b[0minput\u001b[0m\u001b[1;33m(\u001b[0m\u001b[1;34m\"Enter a food please:\"\u001b[0m\u001b[1;33m)\u001b[0m\u001b[1;33m\u001b[0m\u001b[0m\n\u001b[1;32m----> 5\u001b[1;33m \u001b[0mprint\u001b[0m\u001b[1;33m(\u001b[0m\u001b[0meat_junk\u001b[0m\u001b[1;33m(\u001b[0m\u001b[0mfood\u001b[0m\u001b[1;33m)\u001b[0m\u001b[1;33m)\u001b[0m\u001b[1;33m\u001b[0m\u001b[0m\n\u001b[0m",
      "\u001b[1;32m<ipython-input-1-90347c82de36>\u001b[0m in \u001b[0;36meat_junk\u001b[1;34m(food)\u001b[0m\n\u001b[0;32m      1\u001b[0m \u001b[1;32mdef\u001b[0m \u001b[0meat_junk\u001b[0m\u001b[1;33m(\u001b[0m\u001b[0mfood\u001b[0m\u001b[1;33m)\u001b[0m\u001b[1;33m:\u001b[0m\u001b[1;33m\u001b[0m\u001b[0m\n\u001b[1;32m----> 2\u001b[1;33m     \u001b[1;32massert\u001b[0m \u001b[0mfood\u001b[0m \u001b[1;32min\u001b[0m \u001b[1;33m[\u001b[0m\u001b[1;34m\"pizza\"\u001b[0m\u001b[1;33m,\u001b[0m \u001b[1;34m\"ice cream\"\u001b[0m\u001b[1;33m,\u001b[0m \u001b[1;34m\"candy\"\u001b[0m\u001b[1;33m]\u001b[0m\u001b[1;33m,\u001b[0m \u001b[1;34m\"food must be junk food\"\u001b[0m\u001b[1;33m\u001b[0m\u001b[0m\n\u001b[0m\u001b[0;32m      3\u001b[0m     \u001b[1;32mreturn\u001b[0m \u001b[1;34mf\"Nom Nom i am eating {food}\"\u001b[0m\u001b[1;33m\u001b[0m\u001b[0m\n\u001b[0;32m      4\u001b[0m \u001b[0mfood\u001b[0m \u001b[1;33m=\u001b[0m \u001b[0minput\u001b[0m\u001b[1;33m(\u001b[0m\u001b[1;34m\"Enter a food please:\"\u001b[0m\u001b[1;33m)\u001b[0m\u001b[1;33m\u001b[0m\u001b[0m\n\u001b[0;32m      5\u001b[0m \u001b[0mprint\u001b[0m\u001b[1;33m(\u001b[0m\u001b[0meat_junk\u001b[0m\u001b[1;33m(\u001b[0m\u001b[0mfood\u001b[0m\u001b[1;33m)\u001b[0m\u001b[1;33m)\u001b[0m\u001b[1;33m\u001b[0m\u001b[0m\n",
      "\u001b[1;31mAssertionError\u001b[0m: food must be junk food"
     ]
    }
   ],
   "source": [
    "def eat_junk(food):\n",
    "    assert food in [\"pizza\", \"ice cream\", \"candy\"], \"food must be junk food\"\n",
    "    return f\"Nom Nom i am eating {food}\"\n",
    "food = input(\"Enter a food please:\")\n",
    "print(eat_junk(food))"
   ]
  },
  {
   "cell_type": "markdown",
   "metadata": {},
   "source": [
    "### Doctest"
   ]
  },
  {
   "cell_type": "code",
   "execution_count": 2,
   "metadata": {},
   "outputs": [],
   "source": [
    "def say_hi():\n",
    "    \"\"\"\n",
    "    >>> say_hi\n",
    "    'hi'\n",
    "    \"\"\"\n",
    "    return \"hi\""
   ]
  },
  {
   "cell_type": "markdown",
   "metadata": {},
   "source": [
    "#### Activities"
   ]
  },
  {
   "cell_type": "code",
   "execution_count": 1,
   "metadata": {},
   "outputs": [],
   "source": [
    "from random import choice\n",
    "def eat(food, is_healthy):\n",
    "\tif not isinstance(is_healthy, bool):\n",
    "\t\traise ValueError(\"is_healthy must be a boolean\")\n",
    "\tending = \"because YOLO!\"\n",
    "\tif is_healthy:\n",
    "\t\tending = \"because my body is a temple\"\n",
    "\treturn f\"I'm eating {food}, {ending}\"\n",
    "\n",
    "def nap(num_hours):\n",
    "    if num_hours >= 2:\n",
    "    \treturn f\"Ugh I overslept.  I didn't mean to nap for {num_hours} hours!\"\n",
    "    return f\"I'm feeling refreshed after my {num_hours} hour nap\"\n",
    "\n",
    "def is_funny(person):\n",
    "\tif person is 'tim': return False\n",
    "\treturn True\n",
    "\n",
    "def laugh():\n",
    "\treturn choice(('lol', 'haha', 'tehehe'))\n"
   ]
  },
  {
   "cell_type": "markdown",
   "metadata": {},
   "source": [
    "#### Tests"
   ]
  },
  {
   "cell_type": "code",
   "execution_count": null,
   "metadata": {},
   "outputs": [],
   "source": [
    "import unittest\n",
    "from activities import eat, nap, is_funny, laugh\n",
    "\n",
    "class ActivityTests(unittest.TestCase):\n",
    "    def test_eat_healthy(self):\n",
    "    \t\"\"\"eat should have a positive message for healthy eating\"\"\"\n",
    "    \tself.assertEqual(\n",
    "\t\t\teat(\"broccoli\", is_healthy=True),\n",
    "\t\t\t\"I'm eating broccoli, because my body is a temple\"\n",
    "    \t)\n",
    "    def test_eat_unhealthy(self):\n",
    "    \t\"\"\"eat should indicate you've given up for eating unhealthy\"\"\"\n",
    "    \tself.assertEqual(\n",
    "\t\t\teat(\"pizza\", is_healthy=False),\n",
    "\t\t\t\"I'm eating pizza, because YOLO!\"\n",
    "    \t)\n",
    "    def test_eat_healthy_boolean(self):\n",
    "    \t\"\"\"is_healthy must be a bool\"\"\"\n",
    "    \twith self.assertRaises(ValueError):\n",
    "    \t\teat(\"pizza\", is_healthy=\"who cares?\")\n",
    "\n",
    "    def test_short_nap(self):\n",
    "    \t\"\"\"short naps should be refreshing\"\"\"\n",
    "    \tself.assertEqual(\n",
    "    \t\tnap(1),\n",
    "    \t\t\"I'm feeling refreshed after my 1 hour nap\"\n",
    "    \t)\n",
    "    def test_long_nap(self):\n",
    "    \t\"\"\"long naps should be discouraging\"\"\"\n",
    "    \tself.assertEqual(\n",
    "    \t\tnap(3), \"Ugh I overslept.  I didn't mean to nap for 3 hours!\"\n",
    "    \t)\n",
    "    def test_is_funny_tim(self):\n",
    "    \tself.assertEqual(is_funny(\"tim\"), False)\n",
    "    \t# self.assertFalse(is_funny(\"tim\"), \"tim should not be funny\")\n",
    "\n",
    "    def test_is_funny_anyone_else(self):\n",
    "    \t\"\"\"anyone else but tim should be funny\"\"\"\n",
    "    \tself.assertTrue(is_funny(\"blue\"), \"blue should be funny\")\n",
    "    \tself.assertTrue(is_funny(\"tammy\"), \"tammy should be funny\")\n",
    "    \tself.assertTrue(is_funny(\"sven\"), \"sven should be funny\")\n",
    "    \n",
    "    def test_laugh(self):\n",
    "    \t\"\"\"laugh returns a laughing string\"\"\"\n",
    "    \tself.assertIn(laugh(), ('lol', 'haha', 'tehehe'))\n",
    "\n",
    "if __name__ == \"__main__\":\n",
    "    unittest.main()"
   ]
  },
  {
   "cell_type": "markdown",
   "metadata": {},
   "source": [
    "### Robots"
   ]
  },
  {
   "cell_type": "code",
   "execution_count": 3,
   "metadata": {},
   "outputs": [],
   "source": [
    "class Robot:\n",
    "\tdef __init__(self, name, battery=100, skills=[]):\n",
    "\t\tself.name = name\n",
    "\t\tself.battery = battery\n",
    "\t\tself.skills = skills\n",
    "\n",
    "\tdef charge(self):\n",
    "\t\tself.battery = 100\n",
    "\t\treturn self\n",
    "\n",
    "\tdef say_name(self):\n",
    "\t\tif self.battery > 0:\n",
    "\t\t\tself.battery -= 1\n",
    "\t\t\treturn f\"BEEP BOOP BEEP BOOP.  I AM {self.name.upper()}\"\n",
    "\t\treturn \"Low power.  Please charge and try again\"\n",
    "\n",
    "\tdef learn_skill(self, new_skill, cost_to_learn):\n",
    "\t\tif self.battery >= cost_to_learn:\n",
    "\t\t\tself.battery -= cost_to_learn\n",
    "\t\t\tself.skills.append(new_skill)\n",
    "\t\t\treturn f\"WOAH. I KNOW {new_skill.upper()}\"\n",
    "\t\treturn \"Insufficient battery. Please charge and try again\"\n",
    "\n",
    "\t\t\n",
    "\n"
   ]
  }
 ],
 "metadata": {
  "kernelspec": {
   "display_name": "Python 3",
   "language": "python",
   "name": "python3"
  },
  "language_info": {
   "codemirror_mode": {
    "name": "ipython",
    "version": 3
   },
   "file_extension": ".py",
   "mimetype": "text/x-python",
   "name": "python",
   "nbconvert_exporter": "python",
   "pygments_lexer": "ipython3",
   "version": "3.6.1"
  }
 },
 "nbformat": 4,
 "nbformat_minor": 2
}
