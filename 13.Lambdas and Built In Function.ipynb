{
 "cells": [
  {
   "cell_type": "markdown",
   "metadata": {},
   "source": [
    "# Lambdas and Built In Function"
   ]
  },
  {
   "cell_type": "markdown",
   "metadata": {},
   "source": [
    "### Lambdas function"
   ]
  },
  {
   "cell_type": "code",
   "execution_count": 1,
   "metadata": {},
   "outputs": [
    {
     "data": {
      "text/plain": [
       "8"
      ]
     },
     "execution_count": 1,
     "metadata": {},
     "output_type": "execute_result"
    }
   ],
   "source": [
    "# add function using lambdas\n",
    "add_value=lambda x,y : x+y\n",
    "add_value(3,5)"
   ]
  },
  {
   "cell_type": "code",
   "execution_count": 4,
   "metadata": {},
   "outputs": [
    {
     "data": {
      "text/plain": [
       "18"
      ]
     },
     "execution_count": 4,
     "metadata": {},
     "output_type": "execute_result"
    }
   ],
   "source": [
    "# multiply fuction using \n",
    "multiply_val=lambda x,y,z=3:x*y*z\n",
    "multiply_val(2,3) "
   ]
  },
  {
   "cell_type": "markdown",
   "metadata": {},
   "source": [
    "### map "
   ]
  },
  {
   "cell_type": "code",
   "execution_count": 10,
   "metadata": {},
   "outputs": [
    {
     "data": {
      "text/plain": [
       "[2, 4, 6, 8, 10]"
      ]
     },
     "execution_count": 10,
     "metadata": {},
     "output_type": "execute_result"
    }
   ],
   "source": [
    "# list of even number using map\n",
    "num=[1,2,3,4,5]\n",
    "even=map(lambda x: x*2, num)     # num iterate in lambdas function\n",
    "list(even)"
   ]
  },
  {
   "cell_type": "code",
   "execution_count": 11,
   "metadata": {},
   "outputs": [
    {
     "data": {
      "text/plain": [
       "['amir', 'noman', 'zain']"
      ]
     },
     "execution_count": 11,
     "metadata": {},
     "output_type": "execute_result"
    }
   ],
   "source": [
    "names=[\n",
    "    {'first':'amir', 'last':'ali'},\n",
    "    {'first':'noman', 'last':'nadeem'},\n",
    "    {'first':'zain', 'last':'amin'},\n",
    "]\n",
    "fname=map(lambda x: x['first'], names)\n",
    "list(fname)"
   ]
  },
  {
   "cell_type": "markdown",
   "metadata": {},
   "source": [
    "### Filter"
   ]
  },
  {
   "cell_type": "code",
   "execution_count": 13,
   "metadata": {},
   "outputs": [
    {
     "data": {
      "text/plain": [
       "[1, 2, 3, 4, 5]"
      ]
     },
     "execution_count": 13,
     "metadata": {},
     "output_type": "execute_result"
    }
   ],
   "source": [
    "# even (basicaly filter working same as map but in filter return only true)\n",
    "num=[1,2,3,4,5]\n",
    "even=filter(lambda x:x%2==0,num)\n",
    "list(num)"
   ]
  },
  {
   "cell_type": "code",
   "execution_count": 16,
   "metadata": {},
   "outputs": [
    {
     "data": {
      "text/plain": [
       "['amir']"
      ]
     },
     "execution_count": 16,
     "metadata": {},
     "output_type": "execute_result"
    }
   ],
   "source": [
    "# show the a name \n",
    "name=['amir','zain','noman']\n",
    "a_name=filter(lambda x:x[0]=='a',name)\n",
    "list(a_name)"
   ]
  },
  {
   "cell_type": "code",
   "execution_count": 17,
   "metadata": {},
   "outputs": [
    {
     "data": {
      "text/plain": [
       "[{'username': 'jeff', 'tweets': []},\n",
       " {'username': 'bob123', 'tweets': []},\n",
       " {'username': 'guitar_gal', 'tweets': []}]"
      ]
     },
     "execution_count": 17,
     "metadata": {},
     "output_type": "execute_result"
    }
   ],
   "source": [
    "# inactive user\n",
    "users = [\n",
    "      {\"username\": \"samuel\", \"tweets\": [\"I love cake\", \"I love pie\", \"hello world!\"]},\n",
    "      {\"username\": \"katie\", \"tweets\": [\"I love my cat\"]},\n",
    "      {\"username\": \"jeff\", \"tweets\": []},\n",
    "      {\"username\": \"bob123\", \"tweets\": []},\n",
    "      {\"username\": \"doggo_luvr\", \"tweets\": [\"dogs are the best\", \"I'm hungry\"]},\n",
    "      {\"username\": \"guitar_gal\", \"tweets\": []}\n",
    "]\n",
    "inactive_users = filter(lambda u: not u['tweets'], users)\n",
    "list(inactive_users)"
   ]
  },
  {
   "cell_type": "markdown",
   "metadata": {},
   "source": [
    "#### combining the map & filter"
   ]
  },
  {
   "cell_type": "code",
   "execution_count": 30,
   "metadata": {},
   "outputs": [
    {
     "data": {
      "text/plain": [
       "['your name is amir']"
      ]
     },
     "execution_count": 30,
     "metadata": {},
     "output_type": "execute_result"
    }
   ],
   "source": [
    "# first run filter ater this value goes to map and then run\n",
    "name1=['amir','tafseer','zeeshan']\n",
    "iam= map(lambda x:f\"your name is {x}\",\n",
    "        filter(lambda value:len(value) <5,name1))\n",
    "list(iam)"
   ]
  },
  {
   "cell_type": "code",
   "execution_count": 29,
   "metadata": {},
   "outputs": [
    {
     "data": {
      "text/plain": [
       "['your name is amir', 'your name is ali']"
      ]
     },
     "execution_count": 29,
     "metadata": {},
     "output_type": "execute_result"
    }
   ],
   "source": [
    "name1=['amir','ali','tafseer','zeeshan']\n",
    "iam= map(lambda x:f\"your name is {x}\",\n",
    "        filter(lambda value:len(value) <5,name1))\n",
    "list(iam)"
   ]
  },
  {
   "cell_type": "code",
   "execution_count": 31,
   "metadata": {},
   "outputs": [
    {
     "data": {
      "text/plain": [
       "['JEFF', 'BOB123', 'GUITAR_GAL']"
      ]
     },
     "execution_count": 31,
     "metadata": {},
     "output_type": "execute_result"
    }
   ],
   "source": [
    "users = [\n",
    "      {\"username\": \"samuel\", \"tweets\": [\"I love cake\", \"I love pie\", \"hello world!\"]},\n",
    "      {\"username\": \"katie\", \"tweets\": [\"I love my cat\"]},\n",
    "      {\"username\": \"jeff\", \"tweets\": []},\n",
    "      {\"username\": \"bob123\", \"tweets\": []},\n",
    "      {\"username\": \"doggo_luvr\", \"tweets\": [\"dogs are the best\", \"I'm hungry\"]},\n",
    "      {\"username\": \"guitar_gal\", \"tweets\": []}\n",
    "]\n",
    "usernames = list(map(lambda user: user[\"username\"].upper(), \n",
    "      filter(lambda u: not u['tweets'], users)))\n",
    "list(usernames)"
   ]
  },
  {
   "cell_type": "markdown",
   "metadata": {},
   "source": [
    "#### List Comprehension (instead of combining the map and filter)"
   ]
  },
  {
   "cell_type": "code",
   "execution_count": 33,
   "metadata": {},
   "outputs": [
    {
     "data": {
      "text/plain": [
       "['your in instructor is amir']"
      ]
     },
     "execution_count": 33,
     "metadata": {},
     "output_type": "execute_result"
    }
   ],
   "source": [
    "# we doing the same above program using list comprehension instead using combining map and filter\n",
    "name1=['amir','tafseer','zeeshan']\n",
    "[f\"your in instructor is {name}\" for name in name1 if len(name)<5]"
   ]
  },
  {
   "cell_type": "code",
   "execution_count": 35,
   "metadata": {},
   "outputs": [
    {
     "data": {
      "text/plain": [
       "[{'username': 'jeff', 'tweets': []},\n",
       " {'username': 'bob123', 'tweets': []},\n",
       " {'username': 'guitar_gal', 'tweets': []}]"
      ]
     },
     "execution_count": 35,
     "metadata": {},
     "output_type": "execute_result"
    }
   ],
   "source": [
    "users = [\n",
    "      {\"username\": \"samuel\", \"tweets\": [\"I love cake\", \"I love pie\", \"hello world!\"]},\n",
    "      {\"username\": \"katie\", \"tweets\": [\"I love my cat\"]},\n",
    "      {\"username\": \"jeff\", \"tweets\": []},\n",
    "      {\"username\": \"bob123\", \"tweets\": []},\n",
    "      {\"username\": \"doggo_luvr\", \"tweets\": [\"dogs are the best\", \"I'm hungry\"]},\n",
    "      {\"username\": \"guitar_gal\", \"tweets\": []}\n",
    "]\n",
    "#extract inactive users using list comprehension:\n",
    "inactive_users2= [user for user in users if not user[\"tweets\"]]\n",
    "list(inactive_users2)"
   ]
  },
  {
   "cell_type": "code",
   "execution_count": 37,
   "metadata": {},
   "outputs": [
    {
     "data": {
      "text/plain": [
       "['JEFF', 'BOB123', 'GUITAR_GAL']"
      ]
     },
     "execution_count": 37,
     "metadata": {},
     "output_type": "execute_result"
    }
   ],
   "source": [
    "# extract usernames of inactive users w/ list comprehension\n",
    "usernames2 = [user[\"username\"].upper() for user in users if not user[\"tweets\"]]\n",
    "list(usernames2)"
   ]
  },
  {
   "cell_type": "markdown",
   "metadata": {},
   "source": [
    "### Built in Function"
   ]
  },
  {
   "cell_type": "markdown",
   "metadata": {},
   "source": [
    "#### all"
   ]
  },
  {
   "cell_type": "code",
   "execution_count": 3,
   "metadata": {},
   "outputs": [
    {
     "data": {
      "text/plain": [
       "True"
      ]
     },
     "execution_count": 3,
     "metadata": {},
     "output_type": "execute_result"
    }
   ],
   "source": [
    "# all the list according to condion must true \n",
    "num=[2,4,6,8]\n",
    "all([number for number in num if number % 2==0])"
   ]
  },
  {
   "cell_type": "code",
   "execution_count": 5,
   "metadata": {},
   "outputs": [
    {
     "data": {
      "text/plain": [
       "True"
      ]
     },
     "execution_count": 5,
     "metadata": {},
     "output_type": "execute_result"
    }
   ],
   "source": [
    "# Even one element of list is not according to condition then false\n",
    "num=[2,4,6,8,1,5,4,1,3]\n",
    "all([number for number in num if number % 2==0])"
   ]
  },
  {
   "cell_type": "code",
   "execution_count": 10,
   "metadata": {},
   "outputs": [
    {
     "data": {
      "text/plain": [
       "True"
      ]
     },
     "execution_count": 10,
     "metadata": {},
     "output_type": "execute_result"
    }
   ],
   "source": [
    "all([num for num in [1,1] if num % 2 == 0])"
   ]
  },
  {
   "cell_type": "markdown",
   "metadata": {},
   "source": [
    "#### any"
   ]
  },
  {
   "cell_type": "code",
   "execution_count": 13,
   "metadata": {},
   "outputs": [
    {
     "data": {
      "text/plain": [
       "True"
      ]
     },
     "execution_count": 13,
     "metadata": {},
     "output_type": "execute_result"
    }
   ],
   "source": [
    "# if one is true whole list then true in all all the must true\n",
    "num=[2,4,6,8]\n",
    "any([number for number in num if number % 2==0])"
   ]
  },
  {
   "cell_type": "code",
   "execution_count": 15,
   "metadata": {},
   "outputs": [
    {
     "data": {
      "text/plain": [
       "False"
      ]
     },
     "execution_count": 15,
     "metadata": {},
     "output_type": "execute_result"
    }
   ],
   "source": [
    "any([num for num in [1,1] if num % 2 == 0])"
   ]
  },
  {
   "cell_type": "markdown",
   "metadata": {},
   "source": [
    "### Generator vs List Comprehension"
   ]
  },
  {
   "cell_type": "code",
   "execution_count": 18,
   "metadata": {},
   "outputs": [
    {
     "name": "stdout",
     "output_type": "stream",
     "text": [
      "list comprehension 9024 bytes\n",
      "gen_expression 88 bytes\n"
     ]
    }
   ],
   "source": [
    "import sys\n",
    "list_comp= sys.getsizeof([x*10 for x in range(1000)])\n",
    "gen_expression= sys.getsizeof(x*10 for x in range(1000))   # without [] for gen-exp\n",
    "print(f\"list comprehension {list_comp} bytes\")\n",
    "print(f\"gen_expression {gen_expression} bytes\")"
   ]
  },
  {
   "cell_type": "markdown",
   "metadata": {},
   "source": [
    "### Built in Function Sorted"
   ]
  },
  {
   "cell_type": "markdown",
   "metadata": {},
   "source": [
    "#### 1.Sorted"
   ]
  },
  {
   "cell_type": "code",
   "execution_count": 23,
   "metadata": {},
   "outputs": [
    {
     "data": {
      "text/plain": [
       "[1, 2, 3, 4, 6, 7]"
      ]
     },
     "execution_count": 23,
     "metadata": {},
     "output_type": "execute_result"
    }
   ],
   "source": [
    "# just simple sort\n",
    "num=[2,4,1,3,7,6]\n",
    "num.sort()\n",
    "num"
   ]
  },
  {
   "cell_type": "code",
   "execution_count": 25,
   "metadata": {},
   "outputs": [
    {
     "data": {
      "text/plain": [
       "[1, 2, 3, 4, 6, 7]"
      ]
     },
     "execution_count": 25,
     "metadata": {},
     "output_type": "execute_result"
    }
   ],
   "source": [
    "# but sorted\n",
    "num=[2,4,1,3,7,6]\n",
    "sorted(num)  # but num is unchanged [2,4,1,3,7,6]"
   ]
  },
  {
   "cell_type": "code",
   "execution_count": 27,
   "metadata": {},
   "outputs": [
    {
     "data": {
      "text/plain": [
       "[1, 2, 3, 4, 6, 7]"
      ]
     },
     "execution_count": 27,
     "metadata": {},
     "output_type": "execute_result"
    }
   ],
   "source": [
    "num=(2,4,1,3,7,6)   # also capable for tuple but simple sort is not\n",
    "sorted(num)"
   ]
  },
  {
   "cell_type": "code",
   "execution_count": 29,
   "metadata": {},
   "outputs": [
    {
     "data": {
      "text/plain": [
       "[7, 6, 4, 3, 2, 1]"
      ]
     },
     "execution_count": 29,
     "metadata": {},
     "output_type": "execute_result"
    }
   ],
   "source": [
    "num=(2,4,1,3,7,6)   # also capable for other operation like condition and reverse etc\n",
    "sorted(num, reverse=True)"
   ]
  },
  {
   "cell_type": "code",
   "execution_count": 34,
   "metadata": {},
   "outputs": [
    {
     "data": {
      "text/plain": [
       "[1, 2, 3, 4, 6, 7]"
      ]
     },
     "execution_count": 34,
     "metadata": {},
     "output_type": "execute_result"
    }
   ],
   "source": [
    "num=[2,4,1,3,7,6]\n",
    "sorted(num)"
   ]
  },
  {
   "cell_type": "code",
   "execution_count": 35,
   "metadata": {},
   "outputs": [
    {
     "data": {
      "text/plain": [
       "[{'username': 'bob123', 'tweets': [], 'num': 10, 'color': 'teal'},\n",
       " {'username': 'doggo_luvr', 'tweets': ['dogs are the best', \"I'm hungry\"]},\n",
       " {'username': 'guitar_gal', 'tweets': []},\n",
       " {'username': 'jeff', 'tweets': [], 'color': 'purple'},\n",
       " {'username': 'katie', 'tweets': ['I love my cat']},\n",
       " {'username': 'samuel',\n",
       "  'tweets': ['I love cake', 'I love pie', 'hello world!']}]"
      ]
     },
     "execution_count": 35,
     "metadata": {},
     "output_type": "execute_result"
    }
   ],
   "source": [
    "users = [\n",
    "\t{\"username\": \"samuel\", \"tweets\": [\"I love cake\", \"I love pie\", \"hello world!\"]},\n",
    "\t{\"username\": \"katie\", \"tweets\": [\"I love my cat\"]},\n",
    "\t{\"username\": \"jeff\", \"tweets\": [], \"color\": \"purple\"},\n",
    "\t{\"username\": \"bob123\", \"tweets\": [], \"num\": 10, \"color\": \"teal\"},\n",
    "\t{\"username\": \"doggo_luvr\", \"tweets\": [\"dogs are the best\", \"I'm hungry\"]},\n",
    "\t{\"username\": \"guitar_gal\", \"tweets\": []}\n",
    "]\n",
    "\n",
    "# To sort users by their username\n",
    "sorted(users,key=lambda user: user['username'])"
   ]
  },
  {
   "cell_type": "code",
   "execution_count": 31,
   "metadata": {},
   "outputs": [
    {
     "data": {
      "text/plain": [
       "[{'username': 'samuel',\n",
       "  'tweets': ['I love cake', 'I love pie', 'hello world!']},\n",
       " {'username': 'doggo_luvr', 'tweets': ['dogs are the best', \"I'm hungry\"]},\n",
       " {'username': 'katie', 'tweets': ['I love my cat']},\n",
       " {'username': 'jeff', 'tweets': [], 'color': 'purple'},\n",
       " {'username': 'bob123', 'tweets': [], 'num': 10, 'color': 'teal'},\n",
       " {'username': 'guitar_gal', 'tweets': []}]"
      ]
     },
     "execution_count": 31,
     "metadata": {},
     "output_type": "execute_result"
    }
   ],
   "source": [
    "# Finding our most active users...\n",
    "# Sort users by number of tweets, descending\n",
    "sorted(users,key=lambda user: len(user[\"tweets\"]), reverse=True)"
   ]
  },
  {
   "cell_type": "code",
   "execution_count": 32,
   "metadata": {},
   "outputs": [
    {
     "data": {
      "text/plain": [
       "[{'title': 'happy birthday', 'playcount': 1},\n",
       " {'title': 'Survive', 'playcount': 6},\n",
       " {'title': 'Toxic', 'playcount': 31},\n",
       " {'title': 'YMCA', 'playcount': 99}]"
      ]
     },
     "execution_count": 32,
     "metadata": {},
     "output_type": "execute_result"
    }
   ],
   "source": [
    "songs = [\n",
    "\t{\"title\": \"happy birthday\", \"playcount\": 1},\n",
    "\t{\"title\": \"Survive\", \"playcount\": 6},\n",
    "\t{\"title\": \"YMCA\", \"playcount\": 99},\n",
    "\t{\"title\": \"Toxic\", \"playcount\": 31}\n",
    "]\n",
    "\n",
    "# To sort songs by playcount\n",
    "sorted(songs, key=lambda s: s['playcount'])"
   ]
  },
  {
   "cell_type": "markdown",
   "metadata": {},
   "source": [
    "#### 2.Max "
   ]
  },
  {
   "cell_type": "code",
   "execution_count": 33,
   "metadata": {},
   "outputs": [
    {
     "data": {
      "text/plain": [
       "7"
      ]
     },
     "execution_count": 33,
     "metadata": {},
     "output_type": "execute_result"
    }
   ],
   "source": [
    "num=[2,4,1,3,7,6]\n",
    "max(num)"
   ]
  },
  {
   "cell_type": "code",
   "execution_count": 37,
   "metadata": {},
   "outputs": [
    {
     "data": {
      "text/plain": [
       "{'username': 'samuel', 'tweets': ['I love cake', 'I love pie', 'hello world!']}"
      ]
     },
     "execution_count": 37,
     "metadata": {},
     "output_type": "execute_result"
    }
   ],
   "source": [
    "users = [\n",
    "\t{\"username\": \"samuel\", \"tweets\": [\"I love cake\", \"I love pie\", \"hello world!\"]},\n",
    "\t{\"username\": \"katie\", \"tweets\": [\"I love my cat\"]},\n",
    "\t{\"username\": \"jeff\", \"tweets\": [], \"color\": \"purple\"},\n",
    "\t{\"username\": \"bob123\", \"tweets\": [], \"num\": 10, \"color\": \"teal\"},\n",
    "\t{\"username\": \"doggo_luvr\", \"tweets\": [\"dogs are the best\", \"I'm hungry\"]},\n",
    "\t{\"username\": \"guitar_gal\", \"tweets\": []}\n",
    "]\n",
    "\n",
    "# To sort users by their username\n",
    "max(users,key=lambda user: user['username'])  # alphabaticaly largest user name"
   ]
  },
  {
   "cell_type": "code",
   "execution_count": 44,
   "metadata": {},
   "outputs": [
    {
     "data": {
      "text/plain": [
       "'Ollivander'"
      ]
     },
     "execution_count": 44,
     "metadata": {},
     "output_type": "execute_result"
    }
   ],
   "source": [
    "names = ['Arya', \"Samson\", \"Dora\", \"Tim\", \"Ollivander\"]\n",
    "# find the longest name itself\n",
    "max(names, key=lambda n:len(n)) #Ollivander"
   ]
  },
  {
   "cell_type": "code",
   "execution_count": 46,
   "metadata": {},
   "outputs": [
    {
     "data": {
      "text/plain": [
       "'YMCA'"
      ]
     },
     "execution_count": 46,
     "metadata": {},
     "output_type": "execute_result"
    }
   ],
   "source": [
    "songs = [\n",
    "\t{\"title\": \"happy birthday\", \"playcount\": 1},\n",
    "\t{\"title\": \"Survive\", \"playcount\": 6},\n",
    "\t{\"title\": \"YMCA\", \"playcount\": 99},\n",
    "\t{\"title\": \"Toxic\", \"playcount\": 31}\n",
    "]\n",
    "\n",
    "# Finds the title of the most played song\n",
    "max(songs, key=lambda s: s['playcount'])['title'] #YMC\n"
   ]
  },
  {
   "cell_type": "markdown",
   "metadata": {},
   "source": [
    "#### 3.min"
   ]
  },
  {
   "cell_type": "code",
   "execution_count": 38,
   "metadata": {},
   "outputs": [
    {
     "data": {
      "text/plain": [
       "1"
      ]
     },
     "execution_count": 38,
     "metadata": {},
     "output_type": "execute_result"
    }
   ],
   "source": [
    "num=[2,4,1,3,7,6]\n",
    "min(num)"
   ]
  },
  {
   "cell_type": "code",
   "execution_count": 39,
   "metadata": {},
   "outputs": [
    {
     "data": {
      "text/plain": [
       "{'username': 'bob123', 'tweets': [], 'num': 10, 'color': 'teal'}"
      ]
     },
     "execution_count": 39,
     "metadata": {},
     "output_type": "execute_result"
    }
   ],
   "source": [
    "users = [\n",
    "\t{\"username\": \"samuel\", \"tweets\": [\"I love cake\", \"I love pie\", \"hello world!\"]},\n",
    "\t{\"username\": \"katie\", \"tweets\": [\"I love my cat\"]},\n",
    "\t{\"username\": \"jeff\", \"tweets\": [], \"color\": \"purple\"},\n",
    "\t{\"username\": \"bob123\", \"tweets\": [], \"num\": 10, \"color\": \"teal\"},\n",
    "\t{\"username\": \"doggo_luvr\", \"tweets\": [\"dogs are the best\", \"I'm hungry\"]},\n",
    "\t{\"username\": \"guitar_gal\", \"tweets\": []}\n",
    "]\n",
    "\n",
    "# To sort users by their username\n",
    "min(users,key=lambda user: user['username'])  # alphabaticaly small user name"
   ]
  },
  {
   "cell_type": "code",
   "execution_count": 42,
   "metadata": {},
   "outputs": [
    {
     "data": {
      "text/plain": [
       "3"
      ]
     },
     "execution_count": 42,
     "metadata": {},
     "output_type": "execute_result"
    }
   ],
   "source": [
    "names = ['Arya', \"Samson\", \"Dora\", \"Tim\", \"Ollivander\"]\n",
    "\n",
    "# finds the minimum length of a name in names\n",
    "min(len(name) for name in names) # 3"
   ]
  },
  {
   "cell_type": "code",
   "execution_count": 45,
   "metadata": {},
   "outputs": [
    {
     "data": {
      "text/plain": [
       "{'title': 'happy birthday', 'playcount': 1}"
      ]
     },
     "execution_count": 45,
     "metadata": {},
     "output_type": "execute_result"
    }
   ],
   "source": [
    "songs = [\n",
    "\t{\"title\": \"happy birthday\", \"playcount\": 1},\n",
    "\t{\"title\": \"Survive\", \"playcount\": 6},\n",
    "\t{\"title\": \"YMCA\", \"playcount\": 99},\n",
    "\t{\"title\": \"Toxic\", \"playcount\": 31}\n",
    "]\n",
    "\n",
    "# Finds the song with the lowerest playcount\n",
    "min(songs, key=lambda s: s['playcount']) #{\"title\": \"happy birthday\", \"playcount\": 1}"
   ]
  },
  {
   "cell_type": "markdown",
   "metadata": {},
   "source": [
    "#### 4.reversed"
   ]
  },
  {
   "cell_type": "code",
   "execution_count": 2,
   "metadata": {},
   "outputs": [
    {
     "data": {
      "text/plain": [
       "[4, 3, 2, 1]"
      ]
     },
     "execution_count": 2,
     "metadata": {},
     "output_type": "execute_result"
    }
   ],
   "source": [
    "# return a reverse iterator\n",
    "num=[1,2,3,4]\n",
    "list(reversed(num))"
   ]
  },
  {
   "cell_type": "code",
   "execution_count": 4,
   "metadata": {},
   "outputs": [
    {
     "name": "stdout",
     "output_type": "stream",
     "text": [
      "o\n",
      "l\n",
      "l\n",
      "e\n",
      "h\n"
     ]
    }
   ],
   "source": [
    "string=\"hello\"\n",
    "for char in reversed(string):\n",
    "    print(char)"
   ]
  },
  {
   "cell_type": "code",
   "execution_count": 6,
   "metadata": {},
   "outputs": [
    {
     "name": "stdout",
     "output_type": "stream",
     "text": [
      "o\n",
      "l\n",
      "l\n",
      "e\n",
      "h\n"
     ]
    }
   ],
   "source": [
    "for char in reversed(\"hello\"):\n",
    "    print(char)"
   ]
  },
  {
   "cell_type": "code",
   "execution_count": 7,
   "metadata": {},
   "outputs": [
    {
     "name": "stdout",
     "output_type": "stream",
     "text": [
      "4\n",
      "3\n",
      "2\n",
      "1\n",
      "0\n"
     ]
    }
   ],
   "source": [
    "for num in reversed(range(0,5)):\n",
    "    print(num)"
   ]
  },
  {
   "cell_type": "code",
   "execution_count": 8,
   "metadata": {},
   "outputs": [
    {
     "data": {
      "text/plain": [
       "'olleh'"
      ]
     },
     "execution_count": 8,
     "metadata": {},
     "output_type": "execute_result"
    }
   ],
   "source": [
    "# slice method\n",
    "'hello'[::-1]"
   ]
  },
  {
   "cell_type": "markdown",
   "metadata": {},
   "source": [
    "#### 5.len"
   ]
  },
  {
   "cell_type": "code",
   "execution_count": 9,
   "metadata": {},
   "outputs": [
    {
     "data": {
      "text/plain": [
       "4"
      ]
     },
     "execution_count": 9,
     "metadata": {},
     "output_type": "execute_result"
    }
   ],
   "source": [
    "num=[1,2,3,4]\n",
    "len(num)"
   ]
  },
  {
   "cell_type": "code",
   "execution_count": 10,
   "metadata": {},
   "outputs": [
    {
     "data": {
      "text/plain": [
       "4"
      ]
     },
     "execution_count": 10,
     "metadata": {},
     "output_type": "execute_result"
    }
   ],
   "source": [
    "num=(1,2,3,4)\n",
    "len(num)"
   ]
  },
  {
   "cell_type": "code",
   "execution_count": 11,
   "metadata": {},
   "outputs": [
    {
     "data": {
      "text/plain": [
       "3"
      ]
     },
     "execution_count": 11,
     "metadata": {},
     "output_type": "execute_result"
    }
   ],
   "source": [
    "word={'a':1,'b':2,'c':3}\n",
    "len(word)"
   ]
  },
  {
   "cell_type": "code",
   "execution_count": 12,
   "metadata": {},
   "outputs": [
    {
     "data": {
      "text/plain": [
       "10"
      ]
     },
     "execution_count": 12,
     "metadata": {},
     "output_type": "execute_result"
    }
   ],
   "source": [
    "len(range(0,10))"
   ]
  },
  {
   "cell_type": "code",
   "execution_count": 13,
   "metadata": {},
   "outputs": [
    {
     "data": {
      "text/plain": [
       "5"
      ]
     },
     "execution_count": 13,
     "metadata": {},
     "output_type": "execute_result"
    }
   ],
   "source": [
    "'hello'.__len__()"
   ]
  },
  {
   "cell_type": "markdown",
   "metadata": {},
   "source": [
    "#### 6.abs"
   ]
  },
  {
   "cell_type": "code",
   "execution_count": 14,
   "metadata": {},
   "outputs": [
    {
     "data": {
      "text/plain": [
       "5"
      ]
     },
     "execution_count": 14,
     "metadata": {},
     "output_type": "execute_result"
    }
   ],
   "source": [
    "# return vthe absolute value if -ve return +ve if +ve then no also postive return\n",
    "abs(-5)"
   ]
  },
  {
   "cell_type": "code",
   "execution_count": 17,
   "metadata": {},
   "outputs": [
    {
     "data": {
      "text/plain": [
       "4"
      ]
     },
     "execution_count": 17,
     "metadata": {},
     "output_type": "execute_result"
    }
   ],
   "source": [
    "abs(4)   # we pass only one arguments"
   ]
  },
  {
   "cell_type": "code",
   "execution_count": 21,
   "metadata": {},
   "outputs": [
    {
     "data": {
      "text/plain": [
       "2.0"
      ]
     },
     "execution_count": 21,
     "metadata": {},
     "output_type": "execute_result"
    }
   ],
   "source": [
    "abs(float(2))  # only capable in number"
   ]
  },
  {
   "cell_type": "code",
   "execution_count": 22,
   "metadata": {},
   "outputs": [
    {
     "data": {
      "text/plain": [
       "2.0"
      ]
     },
     "execution_count": 22,
     "metadata": {},
     "output_type": "execute_result"
    }
   ],
   "source": [
    "abs(float(-2))"
   ]
  },
  {
   "cell_type": "markdown",
   "metadata": {},
   "source": [
    "#### 7.Sum"
   ]
  },
  {
   "cell_type": "code",
   "execution_count": 24,
   "metadata": {},
   "outputs": [
    {
     "data": {
      "text/plain": [
       "7"
      ]
     },
     "execution_count": 24,
     "metadata": {},
     "output_type": "execute_result"
    }
   ],
   "source": [
    "sum([1,2,4])    # by default sart from 0"
   ]
  },
  {
   "cell_type": "code",
   "execution_count": 25,
   "metadata": {},
   "outputs": [
    {
     "data": {
      "text/plain": [
       "13"
      ]
     },
     "execution_count": 25,
     "metadata": {},
     "output_type": "execute_result"
    }
   ],
   "source": [
    "sum([1,2,4], 6)   # here start from 6 "
   ]
  },
  {
   "cell_type": "code",
   "execution_count": 27,
   "metadata": {},
   "outputs": [
    {
     "data": {
      "text/plain": [
       "-1"
      ]
     },
     "execution_count": 27,
     "metadata": {},
     "output_type": "execute_result"
    }
   ],
   "source": [
    "sum([1,2,4], -8)"
   ]
  },
  {
   "cell_type": "markdown",
   "metadata": {},
   "source": [
    "#### 8.round"
   ]
  },
  {
   "cell_type": "code",
   "execution_count": 29,
   "metadata": {},
   "outputs": [
    {
     "data": {
      "text/plain": [
       "10"
      ]
     },
     "execution_count": 29,
     "metadata": {},
     "output_type": "execute_result"
    }
   ],
   "source": [
    "round(10.45)  # by default he intern integer"
   ]
  },
  {
   "cell_type": "code",
   "execution_count": 30,
   "metadata": {},
   "outputs": [
    {
     "data": {
      "text/plain": [
       "10.45"
      ]
     },
     "execution_count": 30,
     "metadata": {},
     "output_type": "execute_result"
    }
   ],
   "source": [
    "round(10.45342, 2)   # return 2 digit after decimal"
   ]
  },
  {
   "cell_type": "code",
   "execution_count": 31,
   "metadata": {},
   "outputs": [
    {
     "data": {
      "text/plain": [
       "10"
      ]
     },
     "execution_count": 31,
     "metadata": {},
     "output_type": "execute_result"
    }
   ],
   "source": [
    "round(10.456, None)    # return the nearest Approximately"
   ]
  },
  {
   "cell_type": "code",
   "execution_count": 33,
   "metadata": {},
   "outputs": [
    {
     "data": {
      "text/plain": [
       "11"
      ]
     },
     "execution_count": 33,
     "metadata": {},
     "output_type": "execute_result"
    }
   ],
   "source": [
    "round(10.556, None)    # note after .5 or ngeater he round 11"
   ]
  },
  {
   "cell_type": "markdown",
   "metadata": {},
   "source": [
    "#### 9.zip"
   ]
  },
  {
   "cell_type": "code",
   "execution_count": 1,
   "metadata": {},
   "outputs": [
    {
     "data": {
      "text/plain": [
       "[(1, 1), (2, 2), (3, 3), (4, 4)]"
      ]
     },
     "execution_count": 1,
     "metadata": {},
     "output_type": "execute_result"
    }
   ],
   "source": [
    "# make a list of two diff list\n",
    "no1=[1,2,3,4]\n",
    "no2=[1,2,3,4]\n",
    "list(zip(no1,no2))"
   ]
  },
  {
   "cell_type": "code",
   "execution_count": 5,
   "metadata": {},
   "outputs": [
    {
     "data": {
      "text/plain": [
       "[(1, 1), (2, 2), (3, 3), (4, 4)]"
      ]
     },
     "execution_count": 5,
     "metadata": {},
     "output_type": "execute_result"
    }
   ],
   "source": [
    "# or\n",
    "no1=[1,2,3,4]\n",
    "no2=[1,2,3,4]\n",
    "no=zip(no1, no2)\n",
    "list(no)"
   ]
  },
  {
   "cell_type": "code",
   "execution_count": 3,
   "metadata": {},
   "outputs": [
    {
     "data": {
      "text/plain": [
       "[(1, 1), (2, 2), (3, 3)]"
      ]
     },
     "execution_count": 3,
     "metadata": {},
     "output_type": "execute_result"
    }
   ],
   "source": [
    "# make a list shotest matter \n",
    "no1=[1,2,3,4]\n",
    "no2=[1,2,3]\n",
    "no=zip(no1, no2)\n",
    "list(no)"
   ]
  },
  {
   "cell_type": "code",
   "execution_count": 7,
   "metadata": {},
   "outputs": [
    {
     "data": {
      "text/plain": [
       "[(1, 1, 'a'), (2, 2, 'b'), (3, 3, 'c')]"
      ]
     },
     "execution_count": 7,
     "metadata": {},
     "output_type": "execute_result"
    }
   ],
   "source": [
    "# for three zip\n",
    "no1=[1,2,3]\n",
    "no2=[1,2,3]\n",
    "no3=['a','b','c']\n",
    "no=zip(no1, no2, no3)\n",
    "list(no)"
   ]
  },
  {
   "cell_type": "code",
   "execution_count": 8,
   "metadata": {},
   "outputs": [
    {
     "data": {
      "text/plain": [
       "[(1, 'a', 1), (2, 'b', 2), (3, 'c', 3)]"
      ]
     },
     "execution_count": 8,
     "metadata": {},
     "output_type": "execute_result"
    }
   ],
   "source": [
    "# order matter\n",
    "no1=[1,2,3]\n",
    "no2=[1,2,3]\n",
    "no3=['a','b','c']\n",
    "no=zip(no1, no3, no2)\n",
    "list(no)"
   ]
  },
  {
   "cell_type": "code",
   "execution_count": 9,
   "metadata": {},
   "outputs": [
    {
     "data": {
      "text/plain": [
       "{1: 'a', 2: 'b', 3: 'c'}"
      ]
     },
     "execution_count": 9,
     "metadata": {},
     "output_type": "execute_result"
    }
   ],
   "source": [
    "# making a zip of dictionaries\n",
    "no1 = [1, 2, 3]\n",
    "no2 = ['a','b','c']\n",
    "dict(zip(no1,no2))"
   ]
  },
  {
   "cell_type": "code",
   "execution_count": 11,
   "metadata": {},
   "outputs": [
    {
     "data": {
      "text/plain": [
       "[(1, 2, 3), ('a', 'b', 'c'), (1, 2, 3)]"
      ]
     },
     "execution_count": 11,
     "metadata": {},
     "output_type": "execute_result"
    }
   ],
   "source": [
    "# unpack zip use *\n",
    "z= [(1, 'a', 1), (2, 'b', 2), (3, 'c', 3)]   # unpack tuple\n",
    "list(zip(*z))"
   ]
  },
  {
   "cell_type": "code",
   "execution_count": 13,
   "metadata": {},
   "outputs": [
    {
     "data": {
      "text/plain": [
       "[(1,), (2,), (3,)]"
      ]
     },
     "execution_count": 13,
     "metadata": {},
     "output_type": "execute_result"
    }
   ],
   "source": [
    "z=[{1: 'a', 2: 'b', 3: 'c'}]             # unpack dict\n",
    "list(zip(*z))"
   ]
  },
  {
   "cell_type": "markdown",
   "metadata": {},
   "source": [
    "### More complex zip example"
   ]
  },
  {
   "cell_type": "code",
   "execution_count": 24,
   "metadata": {},
   "outputs": [],
   "source": [
    "# in this example three student and have a mid and final marks and our target make a dictionary with max number of student\n",
    "# just like that {'amir': 25, 'zain': 25, 'noman': 23}\n",
    "student=['amir','zain','noman']\n",
    "mid_no=[25, 23, 18]\n",
    "final_no= [22, 25, 23]"
   ]
  },
  {
   "cell_type": "markdown",
   "metadata": {},
   "source": [
    "#### 1st method"
   ]
  },
  {
   "cell_type": "code",
   "execution_count": 25,
   "metadata": {},
   "outputs": [
    {
     "data": {
      "text/plain": [
       "{'amir': 25, 'zain': 25, 'noman': 23}"
      ]
     },
     "execution_count": 25,
     "metadata": {},
     "output_type": "execute_result"
    }
   ],
   "source": [
    "# using list comprehension\n",
    "student=['amir','zain','noman']\n",
    "mid_no=[25, 23, 18]\n",
    "final_no= [22, 25, 23]\n",
    "max_no={pair[0]:max(pair[1], pair[2]) for pair in zip(student, mid_no, final_no)}\n",
    "max_no"
   ]
  },
  {
   "cell_type": "markdown",
   "metadata": {},
   "source": [
    "#### 2nd Method"
   ]
  },
  {
   "cell_type": "code",
   "execution_count": 35,
   "metadata": {},
   "outputs": [
    {
     "data": {
      "text/plain": [
       "{'amir': 25, 'zain': 25, 'noman': 23}"
      ]
     },
     "execution_count": 35,
     "metadata": {},
     "output_type": "execute_result"
    }
   ],
   "source": [
    "# using map\n",
    "student=['amir','zain','noman']\n",
    "mid_no=[25, 23, 18]\n",
    "final_no= [22, 25, 23]\n",
    "max_no= zip(\n",
    "    student,\n",
    "            map(\n",
    "    lambda pair : max(pair),\n",
    "    zip(mid_no, final_no)\n",
    ")\n",
    ")\n",
    "dict(max_no)"
   ]
  },
  {
   "cell_type": "code",
   "execution_count": 37,
   "metadata": {},
   "outputs": [
    {
     "data": {
      "text/plain": [
       "{'amir': 23.5, 'zain': 24.0, 'noman': 20.5}"
      ]
     },
     "execution_count": 37,
     "metadata": {},
     "output_type": "execute_result"
    }
   ],
   "source": [
    "# making a avg using map\n",
    "student=['amir','zain','noman']\n",
    "mid_no=[25, 23, 18]\n",
    "final_no= [22, 25, 23]\n",
    "avg_no= zip(\n",
    "    student,\n",
    "            map(\n",
    "    lambda pair : ((pair[0]+pair[1])/2),\n",
    "    zip(mid_no, final_no)\n",
    ")\n",
    ")\n",
    "dict(avg_no)"
   ]
  },
  {
   "cell_type": "code",
   "execution_count": null,
   "metadata": {},
   "outputs": [],
   "source": []
  }
 ],
 "metadata": {
  "kernelspec": {
   "display_name": "Python 3",
   "language": "python",
   "name": "python3"
  },
  "language_info": {
   "codemirror_mode": {
    "name": "ipython",
    "version": 3
   },
   "file_extension": ".py",
   "mimetype": "text/x-python",
   "name": "python",
   "nbconvert_exporter": "python",
   "pygments_lexer": "ipython3",
   "version": "3.6.1"
  }
 },
 "nbformat": 4,
 "nbformat_minor": 2
}
