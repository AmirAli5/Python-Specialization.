{
 "cells": [
  {
   "cell_type": "markdown",
   "metadata": {},
   "source": [
    "### Inheritance"
   ]
  },
  {
   "cell_type": "code",
   "execution_count": 1,
   "metadata": {},
   "outputs": [
    {
     "name": "stdout",
     "output_type": "stream",
     "text": [
      "this animal says Chrip\n"
     ]
    }
   ],
   "source": [
    "class animal:\n",
    "    cool = True\n",
    "    \n",
    "    def make_sound(self, sound):\n",
    "        print(f\"this animal says {sound}\")\n",
    "        \n",
    "class cat(animal):\n",
    "    pass\n",
    "\n",
    "\n",
    "a = animal()         \n",
    "a.make_sound('Chrip')          #instance method"
   ]
  },
  {
   "cell_type": "code",
   "execution_count": 2,
   "metadata": {},
   "outputs": [
    {
     "name": "stdout",
     "output_type": "stream",
     "text": [
      "this animal says meow\n",
      "True\n",
      "True\n",
      "True\n"
     ]
    }
   ],
   "source": [
    "class animal:\n",
    "    cool = True\n",
    "    \n",
    "    def make_sound(self, sound):\n",
    "        print(f\"this animal says {sound}\")\n",
    "        \n",
    "class cat(animal):\n",
    "    pass\n",
    "\n",
    "\n",
    "b = cat()\n",
    "b.make_sound('meow')           # inheritance class \n",
    "print(b.cool)\n",
    "print(cat.cool)\n",
    "print(animal.cool)"
   ]
  },
  {
   "cell_type": "code",
   "execution_count": 3,
   "metadata": {},
   "outputs": [
    {
     "name": "stdout",
     "output_type": "stream",
     "text": [
      "True\n",
      "True\n",
      "True\n"
     ]
    }
   ],
   "source": [
    "class animal:\n",
    "    cool = True\n",
    "    \n",
    "    def make_sound(self, sound):\n",
    "        print(f\"this animal says {sound}\")\n",
    "        \n",
    "class cat(animal):\n",
    "    pass\n",
    "\n",
    "b = cat()\n",
    "print(isinstance(b , cat))          # isinstance is boolean method\n",
    "print(isinstance(b , animal)) \n",
    "print(isinstance(b , object)) "
   ]
  },
  {
   "cell_type": "markdown",
   "metadata": {},
   "source": [
    "#### All About Properties"
   ]
  },
  {
   "cell_type": "code",
   "execution_count": 8,
   "metadata": {},
   "outputs": [
    {
     "name": "stdout",
     "output_type": "stream",
     "text": [
      "34\n",
      "20\n",
      "Ian Goodfellow\n",
      "Amir Ali\n",
      "{'first': 'Amir', 'last': 'Ali', '_age': 20}\n"
     ]
    }
   ],
   "source": [
    "class Human:\n",
    "    def __init__(self, first, last, age):\n",
    "        self.first = first\n",
    "        self.last = last\n",
    "        if age >= 0:\n",
    "            self.age = age\n",
    "        else:\n",
    "            self.age = 0\n",
    "            \n",
    "    @property\n",
    "    def age(self):\n",
    "        return self._age\n",
    "    \n",
    "    @age.setter\n",
    "    def age(self, value):\n",
    "        if value>= 0:\n",
    "            self._age = value\n",
    "        else:\n",
    "            raise ValueError(\"age can't be negatvie\")\n",
    "            \n",
    "    @property\n",
    "    def full_name(self):\n",
    "        return f\"{self.first} {self.last}\"\n",
    "    \n",
    "    @full_name.setter\n",
    "    def full_name(self, name):\n",
    "        self.first, self.last = name.split(\" \")\n",
    "    \n",
    "    \n",
    "jane = Human(\"Ian\", \"Goodfellow\", 34)\n",
    "print(jane.age)\n",
    "jane.age = 20\n",
    "print(jane.age)\n",
    "print(jane.full_name)\n",
    "jane.full_name = \"Amir Ali\"\n",
    "print(jane.full_name)\n",
    "print(jane.__dict__)"
   ]
  },
  {
   "cell_type": "markdown",
   "metadata": {},
   "source": [
    "### More deeper on Inheritance"
   ]
  },
  {
   "cell_type": "code",
   "execution_count": 12,
   "metadata": {},
   "outputs": [
    {
     "name": "stdout",
     "output_type": "stream",
     "text": [
      "blue is a cat\n"
     ]
    }
   ],
   "source": [
    "class Animal:\n",
    "    def __init__(self, name, species):\n",
    "        self.name = name\n",
    "        self.species = species\n",
    "        \n",
    "    def __repr__(self):\n",
    "        return f\"{self.name} is a {self.species}\"\n",
    "        \n",
    "class Cat(Animal):\n",
    "    def __init__(self, name, species, breed, toy):\n",
    "        self.name = name                                             # these and below line in duplication so below program\n",
    "        self.species = species\n",
    "        self.breed = breed\n",
    "        self.toy = toy\n",
    "        \n",
    "blue = Cat(\"blue\", \"cat\", \"Scottish Fold\", \"String\")\n",
    "print(blue)   "
   ]
  },
  {
   "cell_type": "code",
   "execution_count": 13,
   "metadata": {},
   "outputs": [
    {
     "name": "stdout",
     "output_type": "stream",
     "text": [
      "blue is a cat\n",
      "cat\n",
      "Scottish Fold\n",
      "String\n"
     ]
    }
   ],
   "source": [
    "class Animal:\n",
    "    def __init__(self, name, species):\n",
    "        self.name = name\n",
    "        self.species = species\n",
    "        \n",
    "    def __repr__(self):\n",
    "        return f\"{self.name} is a {self.species}\"\n",
    "        \n",
    "class Cat(Animal):\n",
    "    def __init__(self, name, species, breed, toy):\n",
    "        Animal.__init__(self, name, species)                         # another way instead of this is super below program\n",
    "        self.breed = breed\n",
    "        self.toy = toy\n",
    "        \n",
    "blue = Cat(\"blue\", \"cat\", \"Scottish Fold\", \"String\")\n",
    "print(blue)\n",
    "print(blue.species)\n",
    "print(blue.breed)\n",
    "print(blue.toy)"
   ]
  },
  {
   "cell_type": "code",
   "execution_count": 14,
   "metadata": {},
   "outputs": [
    {
     "name": "stdout",
     "output_type": "stream",
     "text": [
      "blue is a cat\n",
      "cat\n",
      "Scottish Fold\n",
      "String\n"
     ]
    }
   ],
   "source": [
    "# introduction to super()\n",
    "class Animal:\n",
    "    def __init__(self, name, species):\n",
    "        self.name = name\n",
    "        self.species = species\n",
    "        \n",
    "    def __repr__(self):\n",
    "        return f\"{self.name} is a {self.species}\"\n",
    "        \n",
    "class Cat(Animal):\n",
    "    def __init__(self, name, species, breed, toy):\n",
    "        super().__init__(name, species)                     # used super      \n",
    "        self.breed = breed\n",
    "        self.toy = toy\n",
    "        \n",
    "blue = Cat(\"blue\", \"cat\", \"Scottish Fold\", \"String\")\n",
    "print(blue)\n",
    "print(blue.species)\n",
    "print(blue.breed)\n",
    "print(blue.toy)"
   ]
  },
  {
   "cell_type": "code",
   "execution_count": 17,
   "metadata": {},
   "outputs": [
    {
     "name": "stdout",
     "output_type": "stream",
     "text": [
      "blue is a cat\n",
      "cat\n",
      "Scottish Fold\n",
      "String\n"
     ]
    }
   ],
   "source": [
    "# introduction to super()\n",
    "class Animal:\n",
    "    def __init__(self, name, species):\n",
    "        self.name = name\n",
    "        self.species = species\n",
    "        \n",
    "    def __repr__(self):\n",
    "        return f\"{self.name} is a {self.species}\"\n",
    "        \n",
    "class Cat(Animal):\n",
    "    def __init__(self, name, breed, toy):\n",
    "        super().__init__(name , species=\"cat\")                     # species = cat default set  in super     \n",
    "        self.breed = breed\n",
    "        self.toy = toy\n",
    "        \n",
    "blue = Cat(\"blue\", \"Scottish Fold\", \"String\")\n",
    "print(blue)\n",
    "print(blue.species)\n",
    "print(blue.breed)\n",
    "print(blue.toy)"
   ]
  },
  {
   "cell_type": "markdown",
   "metadata": {},
   "source": [
    "#### Inheritance Example User and Moderator"
   ]
  },
  {
   "cell_type": "code",
   "execution_count": null,
   "metadata": {},
   "outputs": [],
   "source": [
    "class User:\n",
    "    \n",
    "    active_users = 0\n",
    "    \n",
    "    @classmethod\n",
    "    def display_active_users(clas):\n",
    "        return f\"There are currently {cls.active_users} active user\"\n",
    "    \n",
    "    @classmethod\n",
    "    def from_string(cls, data_str):\n",
    "        first, last, age = data_str.split(\",\")\n",
    "        return cls(first, last, int(age))\n",
    "    \n",
    "    def __init__(self,first,last,age):\n",
    "        self.first = first\n",
    "        self.last = last\n",
    "        self.age = age\n",
    "        User.active_users +=1\n",
    "        \n",
    "    def logout(self):\n",
    "        User.active_users -=1\n",
    "        return f\"{self.first} has logged out\"\n",
    "        \n",
    "    def full_name(self):\n",
    "        return f\"{self.first} {self.last}\"\n",
    "    \n",
    "    def initials(self):\n",
    "        return f\"{self.first[0]}.{self.last[0]}\"\n",
    "    \n",
    "    def likes(self, thing):\n",
    "        return f\"{self.first} likes {thing}\"\n",
    "    \n",
    "    def is_senior(self):\n",
    "        return self.age >=20\n",
    "    \n",
    "    def birthday(self):\n",
    "        self.age +=1\n",
    "        return f\"Happy {self.age}th , {self.first}\"\n",
    "    \n",
    "class Moderator(User):\n",
    "    def __init__(self, first, last, age, community):\n",
    "        super().__init__(first, last, age)\n",
    "        self.community = community\n",
    "        \n",
    "    def remove_post(self):\n",
    "        return f\"{self.full_name()} remove a post from the {self.community}\"\n",
    "    \n",
    "print(User.display_active_users())\n",
    "u1 = User(\"Amir\", \"Ali\", \"21\", 19)\n",
    "print(User.dispay_active_users())\n",
    "jam = Moderator(\"Saif\", \"Ali\", 21, \"piano\")\n",
    "print(User.display_active_users())"
   ]
  },
  {
   "cell_type": "markdown",
   "metadata": {},
   "source": [
    "#### Multiple Inheritance"
   ]
  },
  {
   "cell_type": "code",
   "execution_count": 6,
   "metadata": {},
   "outputs": [],
   "source": [
    "class Mother:\n",
    "    def __init__(self):\n",
    "        self.eye_color = \"brown\"\n",
    "        self.hair_color = \"dark brown\"\n",
    "        self.hair_type = \"curly\"\n",
    "\n",
    "\n",
    "class Father:\n",
    "    def __init__(self):\n",
    "        self.eye_color = \"blue\"\n",
    "        self.hair_color = \"blond\"\n",
    "        self.hair_type = \"straight\"\n",
    "\n",
    "\n",
    "class Child(Mother, Father):\n",
    "    pass"
   ]
  },
  {
   "cell_type": "code",
   "execution_count": 7,
   "metadata": {},
   "outputs": [
    {
     "name": "stdout",
     "output_type": "stream",
     "text": [
      "Method Defined in D\n"
     ]
    }
   ],
   "source": [
    "# another Silly Example\n",
    "class A:\n",
    "    def do_something(self):\n",
    "        print(\"Method Defined in A\")\n",
    "        \n",
    "class B(A):\n",
    "    def do_something(self):\n",
    "        print(\"Method Defined in B\")\n",
    "        \n",
    "class C(A):\n",
    "    def do_something(self):\n",
    "        print(\"Method Defined in C\")\n",
    "        \n",
    "class D(B, C):\n",
    "    def do_something(self):\n",
    "        print(\"Method Defined in D\")\n",
    "        \n",
    "thing= D()\n",
    "thing.do_something()"
   ]
  },
  {
   "cell_type": "code",
   "execution_count": 8,
   "metadata": {},
   "outputs": [
    {
     "name": "stdout",
     "output_type": "stream",
     "text": [
      "Help on class D in module __main__:\n",
      "\n",
      "class D(B, C)\n",
      " |  Method resolution order:\n",
      " |      D\n",
      " |      B\n",
      " |      C\n",
      " |      A\n",
      " |      builtins.object\n",
      " |  \n",
      " |  Methods inherited from B:\n",
      " |  \n",
      " |  do_something(self)\n",
      " |  \n",
      " |  ----------------------------------------------------------------------\n",
      " |  Data descriptors inherited from A:\n",
      " |  \n",
      " |  __dict__\n",
      " |      dictionary for instance variables (if defined)\n",
      " |  \n",
      " |  __weakref__\n",
      " |      list of weak references to the object (if defined)\n",
      "\n"
     ]
    }
   ],
   "source": [
    "# MRO method   who run first  b c or a\n",
    "class A:\n",
    "    def do_something(self):\n",
    "        print(\"Method Defined in A\")\n",
    "        \n",
    "class B(A):\n",
    "    def do_something(self):\n",
    "        print(\"Method Defined in B\")\n",
    "        \n",
    "class C(A):\n",
    "    def do_something(self):\n",
    "        print(\"Method Defined in C\")\n",
    "        \n",
    "class D(B, C):\n",
    "    pass\n",
    "        \n",
    "#thing= D()\n",
    "#thing.do_something()\n",
    "help(D)"
   ]
  },
  {
   "cell_type": "code",
   "execution_count": 9,
   "metadata": {},
   "outputs": [
    {
     "name": "stdout",
     "output_type": "stream",
     "text": [
      "Method Defined in B\n"
     ]
    }
   ],
   "source": [
    "# let's check      B run\n",
    "# MRO method   who run first  b c or a\n",
    "class A:\n",
    "    def do_something(self):\n",
    "        print(\"Method Defined in A\")\n",
    "        \n",
    "class B(A):\n",
    "    def do_something(self):\n",
    "        print(\"Method Defined in B\")\n",
    "        \n",
    "class C(A):\n",
    "    def do_something(self):\n",
    "        print(\"Method Defined in C\")\n",
    "        \n",
    "class D(B, C):\n",
    "    pass\n",
    "        \n",
    "thing= D()\n",
    "thing.do_something()"
   ]
  },
  {
   "cell_type": "code",
   "execution_count": 11,
   "metadata": {},
   "outputs": [
    {
     "name": "stdout",
     "output_type": "stream",
     "text": [
      "Method Defined in C\n"
     ]
    }
   ],
   "source": [
    "# let's check      C run\n",
    "# MRO method   who run first  b c or a\n",
    "class A:\n",
    "    def do_something(self):\n",
    "        print(\"Method Defined in A\")\n",
    "        \n",
    "class B(A):\n",
    "    pass\n",
    "        \n",
    "class C(A):\n",
    "    def do_something(self):\n",
    "        print(\"Method Defined in C\")\n",
    "        \n",
    "class D(B, C):\n",
    "    pass\n",
    "\n",
    "thing= D()\n",
    "thing.do_something()"
   ]
  },
  {
   "cell_type": "code",
   "execution_count": 12,
   "metadata": {},
   "outputs": [
    {
     "name": "stdout",
     "output_type": "stream",
     "text": [
      "Method Defined in A\n"
     ]
    }
   ],
   "source": [
    "# let's check      A run\n",
    "# MRO method   who run first  b c or a\n",
    "class A:\n",
    "    def do_something(self):\n",
    "        print(\"Method Defined in A\")\n",
    "        \n",
    "class B(A):\n",
    "    pass\n",
    "        \n",
    "class C(A):\n",
    "    pass\n",
    "        \n",
    "class D(B, C):\n",
    "    pass\n",
    "\n",
    "thing= D()\n",
    "thing.do_something()"
   ]
  },
  {
   "cell_type": "markdown",
   "metadata": {},
   "source": [
    "### Polymorphism"
   ]
  },
  {
   "cell_type": "code",
   "execution_count": 5,
   "metadata": {},
   "outputs": [
    {
     "name": "stdout",
     "output_type": "stream",
     "text": [
      "woof\n",
      "meow\n"
     ]
    },
    {
     "ename": "NameError",
     "evalue": "name 'NotimplementedError' is not defined",
     "output_type": "error",
     "traceback": [
      "\u001b[1;31m---------------------------------------------------------------------------\u001b[0m",
      "\u001b[1;31mNameError\u001b[0m                                 Traceback (most recent call last)",
      "\u001b[1;32m<ipython-input-5-303d170c2214>\u001b[0m in \u001b[0;36m<module>\u001b[1;34m()\u001b[0m\n\u001b[0;32m     19\u001b[0m \u001b[0mprint\u001b[0m\u001b[1;33m(\u001b[0m\u001b[0mc\u001b[0m\u001b[1;33m.\u001b[0m\u001b[0mspeak\u001b[0m\u001b[1;33m(\u001b[0m\u001b[1;33m)\u001b[0m\u001b[1;33m)\u001b[0m\u001b[1;33m\u001b[0m\u001b[0m\n\u001b[0;32m     20\u001b[0m \u001b[0mf\u001b[0m \u001b[1;33m=\u001b[0m \u001b[0mfish\u001b[0m\u001b[1;33m(\u001b[0m\u001b[1;33m)\u001b[0m\u001b[1;33m\u001b[0m\u001b[0m\n\u001b[1;32m---> 21\u001b[1;33m \u001b[0mprint\u001b[0m\u001b[1;33m(\u001b[0m\u001b[0mf\u001b[0m\u001b[1;33m.\u001b[0m\u001b[0mspeak\u001b[0m\u001b[1;33m(\u001b[0m\u001b[1;33m)\u001b[0m\u001b[1;33m)\u001b[0m\u001b[1;33m\u001b[0m\u001b[0m\n\u001b[0m",
      "\u001b[1;32m<ipython-input-5-303d170c2214>\u001b[0m in \u001b[0;36mspeak\u001b[1;34m(self)\u001b[0m\n\u001b[0;32m      1\u001b[0m \u001b[1;32mclass\u001b[0m \u001b[0mAnimal\u001b[0m\u001b[1;33m(\u001b[0m\u001b[1;33m)\u001b[0m\u001b[1;33m:\u001b[0m\u001b[1;33m\u001b[0m\u001b[0m\n\u001b[0;32m      2\u001b[0m     \u001b[1;32mdef\u001b[0m \u001b[0mspeak\u001b[0m\u001b[1;33m(\u001b[0m\u001b[0mself\u001b[0m\u001b[1;33m)\u001b[0m\u001b[1;33m:\u001b[0m\u001b[1;33m\u001b[0m\u001b[0m\n\u001b[1;32m----> 3\u001b[1;33m         \u001b[1;32mraise\u001b[0m \u001b[0mNotimplementedError\u001b[0m\u001b[1;33m(\u001b[0m\u001b[1;34m\"Subclass need to implement this method\"\u001b[0m\u001b[1;33m)\u001b[0m\u001b[1;33m\u001b[0m\u001b[0m\n\u001b[0m\u001b[0;32m      4\u001b[0m \u001b[1;33m\u001b[0m\u001b[0m\n\u001b[0;32m      5\u001b[0m \u001b[1;32mclass\u001b[0m \u001b[0mDog\u001b[0m\u001b[1;33m(\u001b[0m\u001b[0mAnimal\u001b[0m\u001b[1;33m)\u001b[0m\u001b[1;33m:\u001b[0m\u001b[1;33m\u001b[0m\u001b[0m\n",
      "\u001b[1;31mNameError\u001b[0m: name 'NotimplementedError' is not defined"
     ]
    }
   ],
   "source": [
    "class Animal():\n",
    "    def speak(self):\n",
    "        raise NotimplementedError(\"Subclass need to implement this method\")\n",
    "        \n",
    "class Dog(Animal):\n",
    "    def speak(self):\n",
    "        return \"woof\"\n",
    "    \n",
    "class Cat(Animal):\n",
    "    def speak(self):\n",
    "        return \"meow\"\n",
    "    \n",
    "class fish(Animal):\n",
    "    pass\n",
    "\n",
    "d = Dog()\n",
    "print(d.speak())\n",
    "c = Cat()\n",
    "print(c.speak())\n",
    "f = fish()\n",
    "print(f.speak())"
   ]
  },
  {
   "cell_type": "markdown",
   "metadata": {},
   "source": [
    "#### Special method "
   ]
  },
  {
   "cell_type": "code",
   "execution_count": 6,
   "metadata": {},
   "outputs": [
    {
     "name": "stdout",
     "output_type": "stream",
     "text": [
      "Human named amir ali\n"
     ]
    }
   ],
   "source": [
    "class Human:\n",
    "    def __init__(self, first, last, age):\n",
    "        self.first = first\n",
    "        self.last = last\n",
    "        self.age = age\n",
    "        \n",
    "    def __repr__(self):\n",
    "        return f\"Human named {self.first} {self.last}\"\n",
    "    \n",
    "j = Human(\"amir\", \"ali\" , 20)\n",
    "print(j)"
   ]
  },
  {
   "cell_type": "code",
   "execution_count": 7,
   "metadata": {},
   "outputs": [
    {
     "name": "stdout",
     "output_type": "stream",
     "text": [
      "Human named amir ali\n",
      "20\n"
     ]
    }
   ],
   "source": [
    "# add  special method which is len\n",
    "class Human:\n",
    "    def __init__(self, first, last, age):\n",
    "        self.first = first\n",
    "        self.last = last\n",
    "        self.age = age\n",
    "        \n",
    "    def __repr__(self):\n",
    "        return f\"Human named {self.first} {self.last}\"\n",
    "    \n",
    "    def __len__(self):\n",
    "        return self.age\n",
    "    \n",
    "j = Human(\"amir\", \"ali\" , 20)\n",
    "print(j)\n",
    "print(len(j))"
   ]
  },
  {
   "cell_type": "code",
   "execution_count": 9,
   "metadata": {},
   "outputs": [
    {
     "name": "stdout",
     "output_type": "stream",
     "text": [
      "Human named Newborn ali\n"
     ]
    }
   ],
   "source": [
    "# add another special method which is add\n",
    "class Human:\n",
    "    def __init__(self, first, last, age):\n",
    "        self.first = first\n",
    "        self.last = last\n",
    "        self.age = age\n",
    "        \n",
    "    def __repr__(self):\n",
    "        return f\"Human named {self.first} {self.last}\"\n",
    "    \n",
    "    def __len__(self):\n",
    "        return self.age\n",
    "    \n",
    "    def __add__(self, other):\n",
    "        if isinstance(other, Human):\n",
    "            return Human(first= 'Newborn', last=self.last, age=0)\n",
    "        return \"You can't add that!\"\n",
    "        \n",
    "    \n",
    "j = Human(\"amir\", \"ali\" , 20)\n",
    "k = Human(\"Ian\", \"Goodfellow\", 27)\n",
    "print(j + k)"
   ]
  },
  {
   "cell_type": "code",
   "execution_count": null,
   "metadata": {},
   "outputs": [],
   "source": []
  }
 ],
 "metadata": {
  "kernelspec": {
   "display_name": "Python 3",
   "language": "python",
   "name": "python3"
  },
  "language_info": {
   "codemirror_mode": {
    "name": "ipython",
    "version": 3
   },
   "file_extension": ".py",
   "mimetype": "text/x-python",
   "name": "python",
   "nbconvert_exporter": "python",
   "pygments_lexer": "ipython3",
   "version": "3.6.1"
  }
 },
 "nbformat": 4,
 "nbformat_minor": 2
}
