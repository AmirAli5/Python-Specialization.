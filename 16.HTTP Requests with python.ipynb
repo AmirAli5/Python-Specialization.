{
 "cells": [
  {
   "cell_type": "markdown",
   "metadata": {},
   "source": [
    "# HTTP Requests with python"
   ]
  },
  {
   "cell_type": "markdown",
   "metadata": {},
   "source": [
    "### Writing your first python request"
   ]
  },
  {
   "cell_type": "code",
   "execution_count": 1,
   "metadata": {},
   "outputs": [
    {
     "name": "stdout",
     "output_type": "stream",
     "text": [
      "your request to http://www.google.com came back w/ status code 200\n",
      "<!doctype html><html itemscope=\"\" itemtype=\"http://schema.org/WebPage\" lang=\"en-PK\"><head><meta content=\"text/html; charset=UTF-8\" http-equiv=\"Content-Type\"><meta content=\"/images/branding/googleg/1x/googleg_standard_color_128dp.png\" itemprop=\"image\"><title>Google</title><script nonce=\"ruYeJP4i41j4T8xbPhZmlQ==\">(function(){window.google={kEI:'snrMW7TvFOTErgTrvYzIAQ',kEXPI:'0,1353746,58,1957,584,433,281,265,860,1225,730,142,248,45,184,155,627,96,302,206,46,302,301,328,38,2337143,187,32,329294,1294,10193,2190,4855,32692,15247,867,317,11846,6381,3335,2,2,4605,2196,366,1103,2214,2314,1819,1372,224,2212,266,1027,4080,575,830,3,286,2,205,373,728,2069,157,205,59,2,4,1297,1712,1980,631,2096,1294,8,1569,222,552,1232,274,609,140,276,2,1124,3337,525,22,599,5,2,2,743,574,447,199,528,3,774,813,372,570,556,593,2587,69,699,351,338,7,119,1110,234,386,8,1003,81,7,3,25,464,619,29,989,406,458,62,569,1216,769,536,1030,2129,45,79,374,340,140,605,243,10,304,876,412,2,557,73,376,1078,29,45,45,500,37,73,40,63,2,270,18,198,57,510,89,743,101,888,231,38,322,15,48,213,26,240,56,474,99,300,350,149,175,162,62,100,219,35,106,1070,153,484,47,588,24,21,447,160,382,746,78,301,38,322,396,17,5,5,1,64,221,157,284,66,71,265,171,55,2,710,22,136,21,587,139,279,256,47,34,127,5988125,2554,5997691,2800095,4,1572,549,332,445,1,2,1,1,78,1,900,583,9,304,1,8,1,2,1,1,2130,1,1,1,1,1,414,1,58,148,37,483,22,141,43,136,37,1,6,5,6,23,22308240,774568',authuser:0,kscs:'c9c918f0_snrMW7TvFOTErgTrvYzIAQ',kGL:'PK'};google.kHL='en-PK';})();google.time=function(){return(new Date).getTime()};(function(){google.lc=[];google.li=0;google.getEI=function(a){for(var b;a&&(!a.getAttribute||!(b=a.getAttribute(\"eid\")));)a=a.parentNode;return b||google.kEI};google.getLEI=function(a){for(var b=null;a&&(!a.getAttribute||!(b=a.getAttribute(\"leid\")));)a=a.parentNode;return b};google.https=function(){return\"https:\"==window.location.protocol};google.ml=function(){return null};google.log=function(a,b,e,c,g){if(a=google.logUrl(a,b,e,c,g)){b=new Image;var d=google.lc,f=google.li;d[f]=b;b.onerror=b.onload=b.onabort=function(){delete d[f]};google.vel&&google.vel.lu&&google.vel.lu(a);b.src=a;google.li=f+1}};google.logUrl=function(a,b,e,c,g){var d=\"\",f=google.ls||\"\";e||-1!=b.search(\"&ei=\")||(d=\"&ei=\"+google.getEI(c),-1==b.search(\"&lei=\")&&(c=google.getLEI(c))&&(d+=\"&lei=\"+c));c=\"\";!e&&google.cshid&&-1==b.search(\"&cshid=\")&&\"slh\"!=a&&(c=\"&cshid=\"+google.cshid);a=e||\"/\"+(g||\"gen_204\")+\"?atyp=i&ct=\"+a+\"&cad=\"+b+d+f+\"&zx=\"+google.time()+c;/^http:/i.test(a)&&google.https()&&(google.ml(Error(\"a\"),!1,{src:a,glmm:1}),a=\"\");return a};}).call(this);(function(){google.y={};google.x=function(a,b){if(a)var c=a.id;else{do c=Math.random();while(google.y[c])}google.y[c]=[a,b];return!1};google.lm=[];google.plm=function(a){google.lm.push.apply(google.lm,a)};google.lq=[];google.load=function(a,b,c){google.lq.push([[a],b,c])};google.loadAll=function(a,b){google.lq.push([a,b])};}).call(this);google.f={};</script><script nonce=\"ruYeJP4i41j4T8xbPhZmlQ==\">var a=window.location,b=a.href.indexOf(\"#\");if(0<=b){var c=a.href.substring(b+1);/(^|&)q=/.test(c)&&-1==c.indexOf(\"#\")&&a.replace(\"/search?\"+c.replace(/(^|&)fp=[^&]*/g,\"\")+\"&cad=h\")};</script><style>#gbar,#guser{font-size:13px;padding-top:1px !important;}#gbar{height:22px}#guser{padding-bottom:7px !important;text-align:right}.gbh,.gbd{border-top:1px solid #c9d7f1;font-size:1px}.gbh{height:0;position:absolute;top:24px;width:100%}@media all{.gb1{height:22px;margin-right:.5em;vertical-align:top}#gbar{float:left}}a.gb1,a.gb4{text-decoration:underline !important}a.gb1,a.gb4{color:#00c !important}.gbi .gb4{color:#dd8e27 !important}.gbf .gb4{color:#900 !important}\n",
      "</style><style>body,td,a,p,.h{font-family:arial,sans-serif}body{margin:0;overflow-y:scroll}#gog{padding:3px 8px 0}td{line-height:.8em}.gac_m td{line-height:17px}form{margin-bottom:20px}.h{color:#36c}.q{color:#00c}.ts td{padding:0}.ts{border-collapse:collapse}em{font-weight:bold;font-style:normal}.lst{height:25px;width:496px}.gsfi,.lst{font:18px arial,sans-serif}.gsfs{font:17px arial,sans-serif}.ds{display:inline-box;display:inline-block;margin:3px 0 4px;margin-left:4px}input{font-family:inherit}a.gb1,a.gb2,a.gb3,a.gb4{color:#11c !important}body{background:#fff;color:black}a{color:#11c;text-decoration:none}a:hover,a:active{text-decoration:underline}.fl a{color:#36c}a:visited{color:#551a8b}a.gb1,a.gb4{text-decoration:underline}a.gb3:hover{text-decoration:none}#ghead a.gb2:hover{color:#fff !important}.sblc{padding-top:5px}.sblc a{display:block;margin:2px 0;margin-left:13px;font-size:11px}.lsbb{background:#eee;border:solid 1px;border-color:#ccc #999 #999 #ccc;height:30px}.lsbb{display:block}.ftl,#fll a{display:inline-block;margin:0 12px}.lsb{background:url(/images/nav_logo229.png) 0 -261px repeat-x;border:none;color:#000;cursor:pointer;height:30px;margin:0;outline:0;font:15px arial,sans-serif;vertical-align:top}.lsb:active{background:#ccc}.lst:focus{outline:none}</style><script nonce=\"ruYeJP4i41j4T8xbPhZmlQ==\"></script></head><body bgcolor=\"#fff\"><script nonce=\"ruYeJP4i41j4T8xbPhZmlQ==\">(function(){var src='/images/nav_logo229.png';var iesg=false;document.body.onload = function(){window.n && window.n();if (document.images){new Image().src=src;}\n",
      "if (!iesg){document.f&&document.f.q.focus();document.gbqf&&document.gbqf.q.focus();}\n",
      "}\n",
      "})();</script><div id=\"mngb\"> <div id=gbar><nobr><b class=gb1>Search</b> <a class=gb1 href=\"http://www.google.com.pk/imghp?hl=en&tab=wi\">Images</a> <a class=gb1 href=\"https://play.google.com/?hl=en&tab=w8\">Play</a> <a class=gb1 href=\"http://www.youtube.com/?gl=PK&tab=w1\">YouTube</a> <a class=gb1 href=\"http://news.google.com.pk/nwshp?hl=en&tab=wn\">News</a> <a class=gb1 href=\"https://mail.google.com/mail/?tab=wm\">Gmail</a> <a class=gb1 href=\"https://drive.google.com/?tab=wo\">Drive</a> <a class=gb1 href=\"https://www.google.com/calendar?tab=wc\">Calendar</a> <a class=gb1 style=\"text-decoration:none\" href=\"https://www.google.com.pk/intl/en/options/\"><u>More</u> &raquo;</a></nobr></div><div id=guser width=100%><nobr><span id=gbn class=gbi></span><span id=gbf class=gbf></span><span id=gbe></span><a href=\"http://www.google.com.pk/history/optout?hl=en\" class=gb4>Web History</a> | <a  href=\"/preferences?hl=en\" class=gb4>Settings</a> | <a target=_top id=gb_70 href=\"https://accounts.google.com/ServiceLogin?hl=en&passive=true&continue=http://www.google.com/\" class=gb4>Sign in</a></nobr></div><div class=gbh style=left:0></div><div class=gbh style=right:0></div> </div><center><br clear=\"all\" id=\"lgpd\"><div id=\"lga\"><img alt=\"Google\" height=\"92\" src=\"/images/branding/googlelogo/1x/googlelogo_white_background_color_272x92dp.png\" style=\"padding:28px 0 14px\" width=\"272\" id=\"hplogo\" onload=\"window.lol&&lol()\"><br><br></div><form action=\"/search\" name=\"f\"><table cellpadding=\"0\" cellspacing=\"0\"><tr valign=\"top\"><td width=\"25%\">&nbsp;</td><td align=\"center\" nowrap=\"\"><input name=\"ie\" value=\"ISO-8859-1\" type=\"hidden\"><input value=\"en-PK\" name=\"hl\" type=\"hidden\"><input name=\"source\" type=\"hidden\" value=\"hp\"><input name=\"biw\" type=\"hidden\"><input name=\"bih\" type=\"hidden\"><div class=\"ds\" style=\"height:32px;margin:4px 0\"><input style=\"color:#000;margin:0;padding:5px 8px 0 6px;vertical-align:top\" autocomplete=\"off\" class=\"lst\" value=\"\" title=\"Google Search\" maxlength=\"2048\" name=\"q\" size=\"57\"></div><br style=\"line-height:0\"><span class=\"ds\"><span class=\"lsbb\"><input class=\"lsb\" value=\"Google Search\" name=\"btnG\" type=\"submit\"></span></span><span class=\"ds\"><span class=\"lsbb\"><input class=\"lsb\" value=\"I'm Feeling Lucky\" name=\"btnI\" onclick=\"if(this.form.q.value)this.checked=1; else top.location='/doodles/'\" type=\"submit\"></span></span></td><td class=\"fl sblc\" align=\"left\" nowrap=\"\" width=\"25%\"><a href=\"/advanced_search?hl=en-PK&amp;authuser=0\">Advanced search</a><a href=\"/language_tools?hl=en-PK&amp;authuser=0\">Language tools</a></td></tr></table><input id=\"gbv\" name=\"gbv\" type=\"hidden\" value=\"1\"><script nonce=\"ruYeJP4i41j4T8xbPhZmlQ==\">(function(){var a,b=\"1\";if(document&&document.getElementById)if(\"undefined\"!=typeof XMLHttpRequest)b=\"2\";else if(\"undefined\"!=typeof ActiveXObject){var c,d,e=[\"MSXML2.XMLHTTP.6.0\",\"MSXML2.XMLHTTP.3.0\",\"MSXML2.XMLHTTP\",\"Microsoft.XMLHTTP\"];for(c=0;d=e[c++];)try{new ActiveXObject(d),b=\"2\"}catch(h){}}a=b;if(\"2\"==a&&-1==location.search.indexOf(\"&gbv=2\")){var f=google.gbvu,g=document.getElementById(\"gbv\");g&&(g.value=a);f&&window.setTimeout(function(){location.href=f},0)};}).call(this);</script></form><div id=\"gac_scont\"></div><div style=\"font-size:83%;min-height:3.5em\"><br><div id=\"gws-output-pages-elements-homepage_additional_languages__als\"><style>#gws-output-pages-elements-homepage_additional_languages__als{font-size:small;margin-bottom:24px}#SIvCob{display:inline-block;line-height:28px;}#SIvCob a{padding:0 3px;}.H6sW5{display:inline-block;margin:0 2px;white-space:nowrap}.z4hgWe{display:inline-block;margin:0 2px}</style><div id=\"SIvCob\">Google offered in:  <a dir=\"rtl\" href=\"http://www.google.com/setprefs?sig=0_UGlW882cR1KEZbsBOj-AcM-gImg%3D&amp;hl=ur&amp;source=homepage&amp;sa=X&amp;ved=0ahUKEwi0kM_ZzZfeAhVkoosKHeseAxkQ2ZgBCAU\">&#1575;&#1585;&#1583;&#1608;</a>    <a dir=\"rtl\" href=\"http://www.google.com/setprefs?sig=0_UGlW882cR1KEZbsBOj-AcM-gImg%3D&amp;hl=ps&amp;source=homepage&amp;sa=X&amp;ved=0ahUKEwi0kM_ZzZfeAhVkoosKHeseAxkQ2ZgBCAY\">&#1662;&#1690;&#1578;&#1608;</a>    <a dir=\"rtl\" href=\"http://www.google.com/setprefs?sig=0_UGlW882cR1KEZbsBOj-AcM-gImg%3D&amp;hl=sd&amp;source=homepage&amp;sa=X&amp;ved=0ahUKEwi0kM_ZzZfeAhVkoosKHeseAxkQ2ZgBCAc\">&#1587;&#1606;&#1676;&#1610;</a>  </div></div></div><span id=\"footer\"><div style=\"font-size:10pt\"><div style=\"margin:19px auto;text-align:center\" id=\"fll\"><a href=\"/intl/en/ads/\">Advertising Programs</a><a href=\"/intl/en/about.html\">About Google</a><a href=\"http://www.google.com/setprefdomain?prefdom=PK&amp;prev=http://www.google.com.pk/&amp;sig=K_9AFGPOAep6WDZODdXhlluxYkbWg%3D\">Google.com.pk</a></div></div><p style=\"color:#767676;font-size:8pt\">&copy; 2018 - <a href=\"/intl/en/policies/privacy/\">Privacy</a> - <a href=\"/intl/en/policies/terms/\">Terms</a></p></span></center><script nonce=\"ruYeJP4i41j4T8xbPhZmlQ==\">(function(){window.google.cdo={height:0,width:0};(function(){var a=window.innerWidth,b=window.innerHeight;if(!a||!b){var c=window.document,d=\"CSS1Compat\"==c.compatMode?c.documentElement:c.body;a=d.clientWidth;b=d.clientHeight}a&&b&&(a!=google.cdo.width||b!=google.cdo.height)&&google.log(\"\",\"\",\"/client_204?&atyp=i&biw=\"+a+\"&bih=\"+b+\"&ei=\"+google.kEI);}).call(this);})();</script><div id=\"xjsd\"></div><div id=\"xjsi\"><script nonce=\"ruYeJP4i41j4T8xbPhZmlQ==\">(function(){google.ldi={};google.pim={};})();(function(){function c(b){window.setTimeout(function(){var a=document.createElement(\"script\");a.src=b;google.timers&&google.timers.load.t&&google.tick&&google.tick(\"load\",{gen204:\"xjsls\",clearcut:31});document.getElementById(\"xjsd\").appendChild(a)},0)}google.dljp=function(b,a){google.xjsu=b;c(a)};google.dlj=c;}).call(this);if(!google.xjs){window._=window._||{};window._DumpException=window._._DumpException=function(e){throw e};window._F_installCss=window._._F_installCss=function(c){};google.dljp('/xjs/_/js/k\\x3dxjs.hp.en.yF_PX_1q4Ow.O/m\\x3dsb_he,d/am\\x3dYsBs/rt\\x3dj/d\\x3d1/rs\\x3dACT90oHEiMHYLjEypM4V6RqdzU2i5Jwq7A','/xjs/_/js/k\\x3dxjs.hp.en.yF_PX_1q4Ow.O/m\\x3dsb_he,d/am\\x3dYsBs/rt\\x3dj/d\\x3d1/rs\\x3dACT90oHEiMHYLjEypM4V6RqdzU2i5Jwq7A');google.xjs=1;}google.pmc={\"sb_he\":{\"agen\":true,\"cgen\":true,\"client\":\"heirloom-hp\",\"dh\":true,\"dhqt\":true,\"ds\":\"\",\"ffql\":\"en\",\"fl\":true,\"host\":\"google.com\",\"isbh\":28,\"jsonp\":true,\"msgs\":{\"cibl\":\"Clear Search\",\"dym\":\"Did you mean:\",\"lcky\":\"I\\u0026#39;m Feeling Lucky\",\"lml\":\"Learn more\",\"oskt\":\"Input tools\",\"psrc\":\"This search was removed from your \\u003Ca href=\\\"/history\\\"\\u003EWeb History\\u003C/a\\u003E\",\"psrl\":\"Remove\",\"sbit\":\"Search by image\",\"srch\":\"Google Search\"},\"ovr\":{},\"pq\":\"\",\"refpd\":true,\"rfs\":[],\"sbpl\":24,\"sbpr\":24,\"scd\":10,\"sce\":5,\"stok\":\"THcTE8pXGPjr4nr6RsoeEgtlXfE\",\"uhde\":false},\"d\":{},\"ZI/YVQ\":{},\"Qnk92g\":{},\"U5B21g\":{},\"DPBNMg\":{},\"YFCs/g\":{}};google.x(null,function(){});(function(){var r=[];google.plm(r);})();(function(){var m=[]\n",
      ";google.jsc && google.jsc.m(m);})();</script></div></body></html>\n"
     ]
    }
   ],
   "source": [
    "import requests\n",
    "url = \"http://www.google.com\"\n",
    "response = requests.get(url)\n",
    "\n",
    "print(f\"your request to {url} came back w/ status code {response.status_code}\")\n",
    "\n",
    "print(response.text)   # source code of google.com"
   ]
  },
  {
   "cell_type": "code",
   "execution_count": 2,
   "metadata": {},
   "outputs": [
    {
     "name": "stdout",
     "output_type": "stream",
     "text": [
      "200\n"
     ]
    }
   ],
   "source": [
    "print(response.status_code)   # status code which i research  200 mean ok"
   ]
  },
  {
   "cell_type": "code",
   "execution_count": 3,
   "metadata": {},
   "outputs": [
    {
     "name": "stdout",
     "output_type": "stream",
     "text": [
      "{'Date': 'Sun, 21 Oct 2018 13:10:10 GMT', 'Expires': '-1', 'Cache-Control': 'private, max-age=0', 'Content-Type': 'text/html; charset=ISO-8859-1', 'P3P': 'CP=\"This is not a P3P policy! See g.co/p3phelp for more info.\"', 'Content-Encoding': 'gzip', 'Server': 'gws', 'Content-Length': '5154', 'X-XSS-Protection': '1; mode=block', 'X-Frame-Options': 'SAMEORIGIN', 'Set-Cookie': '1P_JAR=2018-10-21-13; expires=Tue, 20-Nov-2018 13:10:10 GMT; path=/; domain=.google.com, NID=141=HzZPkpOIJtvg7ds6uDCbSEVnPqau5NdZFw5RI2RnT253IySiA_DIHW5N3pSN_7Tu3uBbRaLdkB74Mg1MW6CKeTR2IJLZc9o-iCNnW8mdwSRLTgJS4VP26d8iEJqFpcnt; expires=Mon, 22-Apr-2019 13:10:10 GMT; path=/; domain=.google.com; HttpOnly'}\n"
     ]
    }
   ],
   "source": [
    "print(response.headers)  # meta data of google.com"
   ]
  },
  {
   "cell_type": "code",
   "execution_count": 5,
   "metadata": {},
   "outputs": [
    {
     "name": "stdout",
     "output_type": "stream",
     "text": [
      "True\n"
     ]
    }
   ],
   "source": [
    "print(response.ok) # if true then sucess mean our request sucess otherwise false"
   ]
  },
  {
   "cell_type": "markdown",
   "metadata": {},
   "source": [
    "### Requesting JSON with python"
   ]
  },
  {
   "cell_type": "code",
   "execution_count": 6,
   "metadata": {},
   "outputs": [
    {
     "name": "stdout",
     "output_type": "stream",
     "text": [
      "Did you hear about the runner who was criticized? He just took it in stride\n",
      "status: 200\n"
     ]
    }
   ],
   "source": [
    "import requests\n",
    "url = \"https://icanhazdadjoke.com/\"\n",
    "\n",
    "response = requests.get(url, headers={\"Accept\": \"application/json\"})\n",
    "\n",
    "data = response.json()\n",
    "\n",
    "print(data[\"joke\"])   # show only attribute which i want here joke show \n",
    "print(f\"status: {data['status']}\")   # show the status code which i run if ok then 200 "
   ]
  },
  {
   "cell_type": "markdown",
   "metadata": {},
   "source": [
    "### Sending Requests with Param"
   ]
  },
  {
   "cell_type": "code",
   "execution_count": 7,
   "metadata": {},
   "outputs": [
    {
     "name": "stdout",
     "output_type": "stream",
     "text": [
      "[{'id': '8UnrHe2T0g', 'joke': '‘Put the cat out’ … ‘I didn’t realize it was on fire'}]\n"
     ]
    }
   ],
   "source": [
    "# param are basically query which i run for example i search blue\n",
    "# line then these are query so only putting the quesry to fond exact which i want\n",
    "import requests\n",
    "url = \"https://icanhazdadjoke.com/search\"\n",
    "\n",
    "response = requests.get(\n",
    "\turl, \n",
    "\theaders={\"Accept\": \"application/json\"},\n",
    "\tparams={\"term\": \"cat\", \"limit\": 1}\n",
    ")\n",
    "\n",
    "data = response.json()\n",
    "print(data[\"results\"])"
   ]
  },
  {
   "cell_type": "markdown",
   "metadata": {},
   "source": [
    "### Project about these section"
   ]
  },
  {
   "cell_type": "code",
   "execution_count": 8,
   "metadata": {},
   "outputs": [
    {
     "name": "stdout",
     "output_type": "stream",
     "text": [
      "\u001b[35m ____            _       _       _          _____  ___   ___   ___  \n",
      "|  _ \\  __ _  __| |     | | ___ | | _____  |___ / / _ \\ / _ \\ / _ \\ \n",
      "| | | |/ _` |/ _` |  _  | |/ _ \\| |/ / _ \\   |_ \\| | | | | | | | | |\n",
      "| |_| | (_| | (_| | | |_| | (_) |   <  __/  ___) | |_| | |_| | |_| |\n",
      "|____/ \\__,_|\\__,_|  \\___/ \\___/|_|\\_\\___| |____/ \\___/ \\___/ \\___/ \n",
      "                                                                    \n",
      "\u001b[0m\n",
      "Let me tell you a joke! Give me a topic: snow\n",
      "I've got 4 jokes about snow. Here's one:\n",
      " What do you get when you cross a snowman with a vampire? Frostbite.\n"
     ]
    }
   ],
   "source": [
    "# In this project we took the url of joke website and code & ask user which topic of joke did you want he enter joke name then \n",
    "# output show about this topic of joke if joke about that topic does't exist then he say sorry not found\n",
    "import requests\n",
    "import pyfiglet\n",
    "import termcolor\n",
    "from random import choice\n",
    "\n",
    "header = pyfiglet.figlet_format(\"Dad Joke 3000\")\n",
    "header = termcolor.colored(header, color=\"magenta\")\n",
    "print(header)\n",
    "\n",
    "term = input(\"Let me tell you a joke! Give me a topic: \")\n",
    "response_json = requests.get(\n",
    "    \"https://icanhazdadjoke.com/search\",\n",
    "    headers={\"Accept\": \"application/json\"},\n",
    "    params={\"term\": term}\n",
    ").json()\n",
    "results = response_json[\"results\"]\n",
    "total_jokes = response_json[\"total_jokes\"]\n",
    "if total_jokes > 1:\n",
    "    print(\n",
    "        f\"I've got {total_jokes} jokes about {term}. Here's one:\\n\",\n",
    "        choice(results)['joke']\n",
    "    )\n",
    "elif total_jokes == 1:\n",
    "    print(\n",
    "        f\"I've got one joke about {term}. Here it is:\\n\",\n",
    "        results[0]['joke']\n",
    "    )\n",
    "else:\n",
    "    print(f\"Sorry, I don't have any jokes about {term}! Please try again.\")\n"
   ]
  },
  {
   "cell_type": "code",
   "execution_count": null,
   "metadata": {},
   "outputs": [],
   "source": []
  }
 ],
 "metadata": {
  "kernelspec": {
   "display_name": "Python 3",
   "language": "python",
   "name": "python3"
  },
  "language_info": {
   "codemirror_mode": {
    "name": "ipython",
    "version": 3
   },
   "file_extension": ".py",
   "mimetype": "text/x-python",
   "name": "python",
   "nbconvert_exporter": "python",
   "pygments_lexer": "ipython3",
   "version": "3.6.1"
  }
 },
 "nbformat": 4,
 "nbformat_minor": 2
}
