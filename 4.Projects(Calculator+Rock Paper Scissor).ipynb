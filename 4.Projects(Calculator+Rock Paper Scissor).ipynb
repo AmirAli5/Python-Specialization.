{
 "cells": [
  {
   "cell_type": "markdown",
   "metadata": {},
   "source": [
    "## 1.Calculator"
   ]
  },
  {
   "cell_type": "markdown",
   "metadata": {},
   "source": [
    "#### Basic Math operation Calculator"
   ]
  },
  {
   "cell_type": "code",
   "execution_count": 19,
   "metadata": {},
   "outputs": [
    {
     "name": "stdout",
     "output_type": "stream",
     "text": [
      "Basic Math Calculator\n",
      "Enter the Math operation(+,-,/,*)>>>>>> +\n",
      "Enter the first number:3\n",
      "Enter the second number:4\n",
      "34\n"
     ]
    }
   ],
   "source": [
    "print(\"Basic Math Calculator\")\n",
    "operation=input(\"Enter the Math operation(+,-,/,*)>>>>>> \")\n",
    "operation=str(operation)\n",
    "if operation=='+' or operation=='-' or operation=='.' or operation=='*':\n",
    "    if operation=='+':\n",
    "        no1=input(\"Enter the first number:\")\n",
    "        no2=input(\"Enter the second number:\")\n",
    "        addition=no1+no2\n",
    "        print(addition)\n",
    "    elif operation=='-':\n",
    "        no1=input(\"Enter the first number:\")\n",
    "        no2=input(\"Enter the second number:\")\n",
    "        substraction=no1-no2\n",
    "        print(substraction)\n",
    "    elif operation=='*':\n",
    "        no1=input(\"Enter the first number:\")\n",
    "        no2=input(\"Enter the second number:\")\n",
    "        multiplication=no1-no2\n",
    "        print(multiplication)\n",
    "    elif operation=='/':\n",
    "        no1=input(\"Enter the first number:\")\n",
    "        no2=input(\"Enter the second number:\")\n",
    "        division=no1/no2\n",
    "        print(division)\n",
    "else:\n",
    "    print(\"You enter wrong operation\")\n",
    "        "
   ]
  },
  {
   "cell_type": "markdown",
   "metadata": {},
   "source": [
    "## 2.Rock Paper Scissor"
   ]
  },
  {
   "cell_type": "markdown",
   "metadata": {},
   "source": [
    "#### 1.On the basis of logical operator"
   ]
  },
  {
   "cell_type": "code",
   "execution_count": 3,
   "metadata": {},
   "outputs": [
    {
     "name": "stdout",
     "output_type": "stream",
     "text": [
      "Rock or Paper or Scissor\n",
      "Enter Player 1 Choice Paper\n",
      "Enter Player 2 Choice Paper\n",
      "Tie\n"
     ]
    }
   ],
   "source": [
    "print(\"Rock or Paper or Scissor\")\n",
    "Player1=input(\"Enter Player 1 Choice \")\n",
    "Player2=input(\"Enter Player 2 Choice \")\n",
    "\n",
    "if Player1==\"Rock\" and Player2==\"Scissor\":\n",
    "    print(\"Player 1 wins\")\n",
    "elif Player1=='Rock' and Player2=='Paper':\n",
    "    print(\"Player 2 wins\")\n",
    "elif Player1=='Paper' and Player2=='Rock':\n",
    "    print(\"Player 1 wins\")\n",
    "elif Player1=='Paper' and Player2=='Scissor':\n",
    "    print(\"Player 2 wins\")\n",
    "elif Player1=='Scissor' and Player2=='Rock':\n",
    "    print(\"Player 1 wins\")\n",
    "elif Player1=='Scissor' and Player2=='Paper':\n",
    "    print(\"Player 2 wins\")\n",
    "elif Player1==Player2:\n",
    "    print(\"Tie\")\n",
    "else:\n",
    "    print(\"Something Getting Wrong\")"
   ]
  },
  {
   "cell_type": "markdown",
   "metadata": {},
   "source": [
    "#### 2.On the basis of Nested Condition"
   ]
  },
  {
   "cell_type": "code",
   "execution_count": 8,
   "metadata": {},
   "outputs": [
    {
     "name": "stdout",
     "output_type": "stream",
     "text": [
      "Rock or Paper or Scissor\n",
      "Enter Player 1 Choice paper\n",
      "Enter Player 2 Choice scissor\n",
      "player 1 wins\n"
     ]
    }
   ],
   "source": [
    "print(\"Rock or Paper or Scissor\")\n",
    "player1=input(\"Enter Player 1 Choice \")\n",
    "player2=input(\"Enter Player 2 Choice \")\n",
    "if player1==player2:\n",
    "    print(\"It's tie\")\n",
    "elif player1=='rock':\n",
    "    if player2=='scissor':\n",
    "        print(\"player 1 wins\")\n",
    "    elif player2=='paper':\n",
    "        print(\"player 2 wins\")\n",
    "elif player1=='paper':\n",
    "    if player2=='scissor':\n",
    "        print(\"player 1 wins\")\n",
    "    elif player2=='rock':\n",
    "        print(\"player 2 wins\")\n",
    "elif player1=='scissor':\n",
    "    if player2=='paper':\n",
    "        print(\"player 1 wins\")\n",
    "    elif player2=='rock':\n",
    "        print(\"player 2 wins\")\n",
    "else:\n",
    "    Print(\"something Getting Wrong\")\n",
    "    "
   ]
  },
  {
   "cell_type": "markdown",
   "metadata": {},
   "source": [
    "#### 3.AI base using Random"
   ]
  },
  {
   "cell_type": "code",
   "execution_count": 16,
   "metadata": {},
   "outputs": [
    {
     "name": "stdout",
     "output_type": "stream",
     "text": [
      "Rock or Paper or Scissor\n",
      "Enter Player  Choice paper\n",
      "computer wins\n"
     ]
    }
   ],
   "source": [
    "import random\n",
    "print(\"Rock or Paper or Scissor\")\n",
    "player=input(\"Enter Player  Choice \")\n",
    "\n",
    "random_number= random.randint(0,2)\n",
    "\n",
    "if random_number==0:\n",
    "    computer='rock'\n",
    "elif random_number==1:\n",
    "    computer='paper'\n",
    "else:\n",
    "    computer='scissor'\n",
    "    \n",
    "    \n",
    "if player==computer:\n",
    "    print(\"It's tie\")\n",
    "elif player=='rock':\n",
    "    if computer=='scissor':\n",
    "        print(\"player wins\")\n",
    "    elif computer=='paper':\n",
    "        print(\"computer wins\")\n",
    "elif player=='paper':\n",
    "    if computer=='scissor':\n",
    "        print(\"player wins\")\n",
    "    elif computer=='rock':\n",
    "        print(\"computer wins\")\n",
    "elif player=='scissor':\n",
    "    if computer=='paper':\n",
    "        print(\"player wins\")\n",
    "    elif computer=='rock':\n",
    "        print(\"computer wins\")\n",
    "else:\n",
    "    Print(\"something Getting Wrong\")"
   ]
  }
 ],
 "metadata": {
  "kernelspec": {
   "display_name": "Python 3",
   "language": "python",
   "name": "python3"
  },
  "language_info": {
   "codemirror_mode": {
    "name": "ipython",
    "version": 3
   },
   "file_extension": ".py",
   "mimetype": "text/x-python",
   "name": "python",
   "nbconvert_exporter": "python",
   "pygments_lexer": "ipython3",
   "version": "3.6.1"
  }
 },
 "nbformat": 4,
 "nbformat_minor": 2
}
