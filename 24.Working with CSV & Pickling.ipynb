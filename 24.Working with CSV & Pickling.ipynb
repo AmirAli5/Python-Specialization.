{
 "cells": [
  {
   "cell_type": "markdown",
   "metadata": {},
   "source": [
    "## 1.Reading CSV files"
   ]
  },
  {
   "cell_type": "code",
   "execution_count": null,
   "metadata": {},
   "outputs": [],
   "source": [
    "# THIS DOES READ THE FILE BUT IT DOESN'T PARSE IT!\n",
    "# BAD!!!!!!\n",
    "with open(\"weather.csv\") as file:\n",
    "    data = file.read()"
   ]
  },
  {
   "cell_type": "markdown",
   "metadata": {},
   "source": [
    "### Using reader"
   ]
  },
  {
   "cell_type": "code",
   "execution_count": 4,
   "metadata": {},
   "outputs": [
    {
     "name": "stdout",
     "output_type": "stream",
     "text": [
      "sunny is from hot\n",
      "sunny is from hot\n",
      "overcast is from hot\n",
      "rainy is from mild\n",
      "rainy is from cool\n",
      "rainy is from cool\n",
      "overcast is from cool\n",
      "sunny is from mild\n",
      "sunny is from cool\n",
      "rainy is from mild\n",
      "sunny is from mild\n",
      "overcast is from mild\n",
      "overcast is from hot\n",
      "rainy is from mild\n"
     ]
    }
   ],
   "source": [
    "from csv import reader\n",
    "with open(\"weather.csv\") as file:\n",
    "    csv_reader = reader(file)\n",
    "    next(csv_reader) #To skip the headers\n",
    "    for weather in csv_reader:\n",
    "    \t# Each row is a list\n",
    "    \t# Use index to access data\n",
    "    \tprint(f\"{weather[0]} is from {weather[1]}\") "
   ]
  },
  {
   "cell_type": "code",
   "execution_count": 5,
   "metadata": {},
   "outputs": [
    {
     "name": "stdout",
     "output_type": "stream",
     "text": [
      "[['Outlook', 'temprature', 'humidity', 'windy', 'play'], ['sunny', 'hot', 'high', 'FALSE', 'no'], ['sunny', 'hot', 'high', 'TRUE', 'no'], ['overcast', 'hot', 'high', 'FALSE', 'yes'], ['rainy', 'mild', 'high', 'FALSE', 'yes'], ['rainy', 'cool', 'normal', 'FALSE', 'yes'], ['rainy', 'cool', 'normal', 'TRUE', 'no'], ['overcast', 'cool', 'normal', 'TRUE', 'yes'], ['sunny', 'mild', 'high', 'FALSE', 'no'], ['sunny', 'cool', 'normal', 'FALSE', 'yes'], ['rainy', 'mild', 'normal', 'FALSE', 'yes'], ['sunny', 'mild', 'normal', 'TRUE', 'yes'], ['overcast', 'mild', 'high', 'TRUE', 'yes'], ['overcast', 'hot', 'normal', 'FALSE', 'yes'], ['rainy', 'mild', 'high', 'TRUE', 'no']]\n"
     ]
    }
   ],
   "source": [
    "# Example where data is cast into a list\n",
    "from csv import reader\n",
    "with open(\"weather.csv\") as file:\n",
    "    csv_reader = reader(file)\n",
    "    data = list(csv_reader)\n",
    "    print(data)"
   ]
  },
  {
   "cell_type": "markdown",
   "metadata": {},
   "source": [
    "### DictReader"
   ]
  },
  {
   "cell_type": "code",
   "execution_count": 9,
   "metadata": {},
   "outputs": [
    {
     "name": "stdout",
     "output_type": "stream",
     "text": [
      "hot\n",
      "hot\n",
      "hot\n",
      "mild\n",
      "cool\n",
      "cool\n",
      "cool\n",
      "mild\n",
      "cool\n",
      "mild\n",
      "mild\n",
      "mild\n",
      "hot\n",
      "mild\n"
     ]
    }
   ],
   "source": [
    "# Reading/Parsing CSV Using a DictReader:\n",
    "from csv import DictReader\n",
    "with open(\"weather.csv\") as file:\n",
    "    csv_reader = DictReader(file)\n",
    "    for row in csv_reader:\n",
    "        # Each row is an OrderedDict!\n",
    "        print(row['temprature']) #Use keys to access data"
   ]
  },
  {
   "cell_type": "markdown",
   "metadata": {},
   "source": [
    "## 2.Writing CSV files"
   ]
  },
  {
   "cell_type": "code",
   "execution_count": 11,
   "metadata": {},
   "outputs": [],
   "source": [
    "from csv import reader, writer\n",
    "# using nested with statements\n",
    "with open('weather.csv') as file:\n",
    "\tcsv_reader = reader(file) #data never converted to list\n",
    "\twith open('screaming_weather.csv', \"w\") as file:\n",
    "\t\tcsv_writer = writer(file)\n",
    "\t\tfor weather in csv_reader:\n",
    "\t\t\tcsv_writer.writerow([s.upper() for s in weather])"
   ]
  },
  {
   "cell_type": "code",
   "execution_count": 12,
   "metadata": {},
   "outputs": [],
   "source": [
    "# Other approach, with only 1 file open at a time\n",
    "with open('weather.csv') as file:\n",
    "\tcsv_reader = reader(file)\n",
    "\t# data converted to list and saved to variable\n",
    "\tweather = [[s.upper() for s in row] for row in csv_reader]"
   ]
  },
  {
   "cell_type": "code",
   "execution_count": 13,
   "metadata": {},
   "outputs": [],
   "source": [
    "with open('screaming_weather.csv', \"w\") as file:\n",
    "\tcsv_writer = writer(file)\n",
    "\tfor weather in weather:\n",
    "\t\tcsv_writer.writerow(weather)"
   ]
  },
  {
   "cell_type": "markdown",
   "metadata": {},
   "source": [
    "### Dictwriter"
   ]
  },
  {
   "cell_type": "code",
   "execution_count": 1,
   "metadata": {},
   "outputs": [],
   "source": [
    "from csv import writer, DictWriter\n",
    "# Version using writer\n",
    "# with open(\"cats.csv\", \"w\") as file:\n",
    "#     csv_writer = writer(file)\n",
    "#     csv_writer.writerow([\"Name\", \"Age\"])\n",
    "#     csv_writer.writerow([\"Blue\", 3])\n",
    "#     csv_writer.writerow([\"Kitty\", 1])\n",
    "\n",
    "# Version using DictWriter\n",
    "with open(\"weather.csv\", \"w\") as file:\n",
    "\theaders = [\"Name\", \"Breed\", \"Age\"]\n",
    "\tcsv_writer = DictWriter(file, fieldnames=headers)\n",
    "\tcsv_writer.writeheader()\n",
    "\tcsv_writer.writerow({\n",
    "\t\t\"Name\": \"Garfield\",\n",
    "\t\t\"Breed\": \"Orange Tabby\",\n",
    "\t\t\"Age\": 10\n",
    "\t})"
   ]
  },
  {
   "cell_type": "markdown",
   "metadata": {},
   "source": [
    "### Pickling"
   ]
  },
  {
   "cell_type": "code",
   "execution_count": 2,
   "metadata": {},
   "outputs": [],
   "source": [
    "import pickle\n",
    "class Animal:\n",
    "\tdef __init__(self, name, species):\n",
    "\t\tself.name = name\n",
    "\t\tself.species = species\n",
    "\n",
    "\tdef __repr__(self):\n",
    "\t\treturn f\"{self.name} is a {self.species}\"\n",
    "\n",
    "\tdef make_sound(self, sound):\n",
    "\t\tprint(f\"this animal says {sound}\")\n",
    "\n",
    "\n",
    "class Cat(Animal):\n",
    "\tdef __init__(self, name, breed, toy):\n",
    "\t\tsuper().__init__(name, species=\"Cat\") # Call init on parent class\n",
    "\t\tself.breed = breed\n",
    "\t\tself.toy = toy\n",
    "\n",
    "\tdef play(self):\n",
    "\t\tprint(f\"{self.name} plays with {self.toy}\")\n",
    "\n",
    "\n",
    "blue = Cat(\"Blue\", \"Scottish Fold\", \"String\")\n",
    "\n",
    "# To pickle an object:\n",
    "with open(\"pets.pickle\", \"wb\") as file:\n",
    "\tpickle.dump(blue, file)"
   ]
  },
  {
   "cell_type": "code",
   "execution_count": null,
   "metadata": {},
   "outputs": [],
   "source": []
  }
 ],
 "metadata": {
  "kernelspec": {
   "display_name": "Python 3",
   "language": "python",
   "name": "python3"
  },
  "language_info": {
   "codemirror_mode": {
    "name": "ipython",
    "version": 3
   },
   "file_extension": ".py",
   "mimetype": "text/x-python",
   "name": "python",
   "nbconvert_exporter": "python",
   "pygments_lexer": "ipython3",
   "version": "3.6.1"
  }
 },
 "nbformat": 4,
 "nbformat_minor": 2
}
