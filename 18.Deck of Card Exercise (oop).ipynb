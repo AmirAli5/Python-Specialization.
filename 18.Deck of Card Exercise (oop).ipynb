{
 "cells": [
  {
   "cell_type": "markdown",
   "metadata": {},
   "source": [
    "#### Deck of Card Excercise"
   ]
  },
  {
   "cell_type": "code",
   "execution_count": 19,
   "metadata": {},
   "outputs": [
    {
     "name": "stdout",
     "output_type": "stream",
     "text": [
      "2 of Diamonds\n",
      "4 of Spades\n",
      "[]\n"
     ]
    },
    {
     "ename": "ValueError",
     "evalue": "All cards have been dealt",
     "output_type": "error",
     "traceback": [
      "\u001b[1;31m---------------------------------------------------------------------------\u001b[0m",
      "\u001b[1;31mValueError\u001b[0m                                Traceback (most recent call last)",
      "\u001b[1;32m<ipython-input-19-70e23987adbf>\u001b[0m in \u001b[0;36m<module>\u001b[1;34m()\u001b[0m\n\u001b[0;32m     65\u001b[0m \u001b[0mprint\u001b[0m\u001b[1;33m(\u001b[0m\u001b[0mcard2\u001b[0m\u001b[1;33m)\u001b[0m\u001b[1;33m\u001b[0m\u001b[0m\n\u001b[0;32m     66\u001b[0m \u001b[0mprint\u001b[0m\u001b[1;33m(\u001b[0m\u001b[0md\u001b[0m\u001b[1;33m.\u001b[0m\u001b[0mcards\u001b[0m\u001b[1;33m)\u001b[0m\u001b[1;33m\u001b[0m\u001b[0m\n\u001b[1;32m---> 67\u001b[1;33m \u001b[0mcard2\u001b[0m \u001b[1;33m=\u001b[0m \u001b[0md\u001b[0m\u001b[1;33m.\u001b[0m\u001b[0mdeal_card\u001b[0m\u001b[1;33m(\u001b[0m\u001b[1;33m)\u001b[0m\u001b[1;33m\u001b[0m\u001b[0m\n\u001b[0m\u001b[0;32m     68\u001b[0m \u001b[1;33m\u001b[0m\u001b[0m\n\u001b[0;32m     69\u001b[0m \u001b[1;31m# print(d.cards)\u001b[0m\u001b[1;33m\u001b[0m\u001b[1;33m\u001b[0m\u001b[0m\n",
      "\u001b[1;32m<ipython-input-19-70e23987adbf>\u001b[0m in \u001b[0;36mdeal_card\u001b[1;34m(self)\u001b[0m\n\u001b[0;32m     44\u001b[0m \u001b[1;33m\u001b[0m\u001b[0m\n\u001b[0;32m     45\u001b[0m         \u001b[1;32mdef\u001b[0m \u001b[0mdeal_card\u001b[0m\u001b[1;33m(\u001b[0m\u001b[0mself\u001b[0m\u001b[1;33m)\u001b[0m\u001b[1;33m:\u001b[0m\u001b[1;33m\u001b[0m\u001b[0m\n\u001b[1;32m---> 46\u001b[1;33m                 \u001b[1;32mreturn\u001b[0m \u001b[0mself\u001b[0m\u001b[1;33m.\u001b[0m\u001b[0m_deal\u001b[0m\u001b[1;33m(\u001b[0m\u001b[1;36m1\u001b[0m\u001b[1;33m)\u001b[0m\u001b[1;33m[\u001b[0m\u001b[1;36m0\u001b[0m\u001b[1;33m]\u001b[0m\u001b[1;33m\u001b[0m\u001b[0m\n\u001b[0m\u001b[0;32m     47\u001b[0m \u001b[1;33m\u001b[0m\u001b[0m\n\u001b[0;32m     48\u001b[0m         \u001b[1;32mdef\u001b[0m \u001b[0mdeal_hand\u001b[0m\u001b[1;33m(\u001b[0m\u001b[0mself\u001b[0m\u001b[1;33m,\u001b[0m \u001b[0mhand_size\u001b[0m\u001b[1;33m)\u001b[0m\u001b[1;33m:\u001b[0m\u001b[1;33m\u001b[0m\u001b[0m\n",
      "\u001b[1;32m<ipython-input-19-70e23987adbf>\u001b[0m in \u001b[0;36m_deal\u001b[1;34m(self, num)\u001b[0m\n\u001b[0;32m     38\u001b[0m                 \u001b[0mactual\u001b[0m \u001b[1;33m=\u001b[0m \u001b[0mmin\u001b[0m\u001b[1;33m(\u001b[0m\u001b[1;33m[\u001b[0m\u001b[0mcount\u001b[0m\u001b[1;33m,\u001b[0m\u001b[0mnum\u001b[0m\u001b[1;33m]\u001b[0m\u001b[1;33m)\u001b[0m\u001b[1;33m\u001b[0m\u001b[0m\n\u001b[0;32m     39\u001b[0m                 \u001b[1;32mif\u001b[0m \u001b[0mcount\u001b[0m \u001b[1;33m==\u001b[0m \u001b[1;36m0\u001b[0m\u001b[1;33m:\u001b[0m\u001b[1;33m\u001b[0m\u001b[0m\n\u001b[1;32m---> 40\u001b[1;33m                         \u001b[1;32mraise\u001b[0m \u001b[0mValueError\u001b[0m\u001b[1;33m(\u001b[0m\u001b[1;34m\"All cards have been dealt\"\u001b[0m\u001b[1;33m)\u001b[0m\u001b[1;33m\u001b[0m\u001b[0m\n\u001b[0m\u001b[0;32m     41\u001b[0m                 \u001b[0mcards\u001b[0m \u001b[1;33m=\u001b[0m \u001b[0mself\u001b[0m\u001b[1;33m.\u001b[0m\u001b[0mcards\u001b[0m\u001b[1;33m[\u001b[0m\u001b[1;33m-\u001b[0m\u001b[0mactual\u001b[0m\u001b[1;33m:\u001b[0m\u001b[1;33m]\u001b[0m\u001b[1;33m\u001b[0m\u001b[0m\n\u001b[0;32m     42\u001b[0m                 \u001b[0mself\u001b[0m\u001b[1;33m.\u001b[0m\u001b[0mcards\u001b[0m \u001b[1;33m=\u001b[0m \u001b[0mself\u001b[0m\u001b[1;33m.\u001b[0m\u001b[0mcards\u001b[0m\u001b[1;33m[\u001b[0m\u001b[1;33m:\u001b[0m\u001b[1;33m-\u001b[0m\u001b[0mactual\u001b[0m\u001b[1;33m]\u001b[0m\u001b[1;33m\u001b[0m\u001b[0m\n",
      "\u001b[1;31mValueError\u001b[0m: All cards have been dealt"
     ]
    }
   ],
   "source": [
    "from random import shuffle\n",
    "# Each instance of Card  should have a suit (\"Hearts\", \"Diamonds\", \"Clubs\", or \"Spades\").\n",
    "# Each instance of Card  should have a value (\"A\", \"2\", \"3\", \"4\", \"5\", \"6\", \"7\", \"8\", \"9\", \"10\", \"J\", \"Q\", \"K\").\n",
    "# Card 's __repr__  method should display the card's value and suit (e.g. \"A of Clubs\", \"J of Diamonds\", etc.)\n",
    "\n",
    "\n",
    "class Card:\n",
    "\tdef __init__(self, value, suit):\n",
    "\t\tself.value = value\n",
    "\t\tself.suit = suit\n",
    "\n",
    "\tdef __repr__(self):\n",
    "\t\t# return \"{} of {}\".format(self.value, self.suit)\n",
    "\t\treturn f\"{self.value} of {self.suit}\"\n",
    "\n",
    "# Each instance of Deck  should have a cards attribute with all 52 possible instances of Card .\n",
    "# Deck  should have an instance method called count  which returns a count of how many cards remain in the deck.\n",
    "# Deck 's __repr__  method should display information on how many cards are in the deck (e.g. \"Deck of 52 cards\", \"Deck of 12 cards\", etc.)\n",
    "# Deck  should have an instance method called _deal  which accepts a number and removes at most that many cards from the deck (it may need to remove fewer if you request more cards than are currently in the deck!). If there are no cards left, this method should return a ValueError  with the message \"All cards have been dealt\".\n",
    "# Deck  should have an instance method called shuffle  which will shuffle a full deck of cards. If there are cards missing from the deck, this method should return a ValueError  with the message \"Only full decks can be shuffled\".\n",
    "# Deck  should have an instance method called deal_card  which uses the _deal  method to deal a single card from the deck.\n",
    "# Deck  should have an instance method called deal_hand  which accepts a number and uses the _deal  method to deal a list of cards from the deck.\n",
    "\n",
    "class Deck:\n",
    "\tdef __init__(self):\n",
    "\t\tsuits = [\"Hearts\", \"Diamonds\", \"Clubs\", \"Spades\"]\n",
    "\t\tvalues = ['A','2','3','4','5','6','7','8','9','10','J','Q','K']\n",
    "\t\tself.cards = [Card(value, suit) for suit in suits for value in values]\n",
    "\n",
    "\tdef __repr__(self):\n",
    "\t\treturn f\"Deck of {self.count()} cards\"\n",
    "\n",
    "\tdef count(self):\n",
    "\t\treturn len(self.cards)\n",
    "\n",
    "\tdef _deal(self, num):\n",
    "\t\tcount = self.count()\n",
    "\t\tactual = min([count,num])\n",
    "\t\tif count == 0:\n",
    "\t\t\traise ValueError(\"All cards have been dealt\")\n",
    "\t\tcards = self.cards[-actual:]\n",
    "\t\tself.cards = self.cards[:-actual]\n",
    "\t\treturn cards\n",
    "\n",
    "\tdef deal_card(self):\n",
    "\t\treturn self._deal(1)[0]\n",
    "\n",
    "\tdef deal_hand(self, hand_size):\n",
    "\t\treturn self._deal(hand_size)\n",
    "\n",
    "\tdef shuffle(self):\n",
    "\t\tif self.count() < 52:\n",
    "\t\t\traise ValueError(\"Only full decks can be shuffled\")\n",
    "\n",
    "\t\tshuffle(self.cards)\n",
    "\t\treturn self\n",
    "\n",
    "\n",
    "d = Deck()\n",
    "d.shuffle()\n",
    "card = d.deal_card()\n",
    "print(card)\n",
    "hand = d.deal_hand(50)\n",
    "card2 = d.deal_card()\n",
    "print(card2)\n",
    "print(d.cards)\n",
    "card2 = d.deal_card()\n",
    "\n",
    "# print(d.cards)\n"
   ]
  }
 ],
 "metadata": {
  "kernelspec": {
   "display_name": "Python 3",
   "language": "python",
   "name": "python3"
  },
  "language_info": {
   "codemirror_mode": {
    "name": "ipython",
    "version": 3
   },
   "file_extension": ".py",
   "mimetype": "text/x-python",
   "name": "python",
   "nbconvert_exporter": "python",
   "pygments_lexer": "ipython3",
   "version": "3.6.1"
  }
 },
 "nbformat": 4,
 "nbformat_minor": 2
}
