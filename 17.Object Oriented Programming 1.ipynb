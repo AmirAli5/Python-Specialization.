{
 "cells": [
  {
   "cell_type": "markdown",
   "metadata": {},
   "source": [
    "# Object Oriented Programming 1"
   ]
  },
  {
   "cell_type": "markdown",
   "metadata": {},
   "source": [
    "#### Creating class and Object"
   ]
  },
  {
   "cell_type": "code",
   "execution_count": 5,
   "metadata": {},
   "outputs": [
    {
     "name": "stdout",
     "output_type": "stream",
     "text": [
      "<__main__.user object at 0x0000025FD3E8A588>\n",
      "<__main__.user object at 0x0000025FD3E8A048>\n"
     ]
    }
   ],
   "source": [
    "# Defining the simplest possible class\n",
    "class user:\n",
    "    pass\n",
    "user1= user()\n",
    "user2= user()\n",
    "user3= user()\n",
    "user4= user()\n",
    "print(user1)\n",
    "print(user2)"
   ]
  },
  {
   "cell_type": "code",
   "execution_count": 8,
   "metadata": {},
   "outputs": [],
   "source": [
    "# Define a class called Vehicle.  It should be completely empty (just add a pass statement inside) . \n",
    "class vehicle:\n",
    "    pass\n",
    "#After the class is defined, create two instances of Vehicle.  \n",
    "#Save one to a variable called car  \n",
    "#Save another to a variable called boat\n",
    "car = vehicle()\n",
    "boat = vehicle()"
   ]
  },
  {
   "cell_type": "markdown",
   "metadata": {},
   "source": [
    "#### The__int__ method"
   ]
  },
  {
   "cell_type": "code",
   "execution_count": 13,
   "metadata": {},
   "outputs": [
    {
     "name": "stdout",
     "output_type": "stream",
     "text": [
      "Hello world\n"
     ]
    }
   ],
   "source": [
    "# self\n",
    "class user:\n",
    "    def __init__(self):\n",
    "        print(\"Hello world\")\n",
    "user1=user()"
   ]
  },
  {
   "cell_type": "code",
   "execution_count": 14,
   "metadata": {},
   "outputs": [
    {
     "name": "stdout",
     "output_type": "stream",
     "text": [
      "amir\n"
     ]
    }
   ],
   "source": [
    "# self with parameter\n",
    "class user:\n",
    "    def __init__(self, first):\n",
    "        self.name = first\n",
    "user1=user(\"amir\")\n",
    "print(user1.name)"
   ]
  },
  {
   "cell_type": "code",
   "execution_count": 16,
   "metadata": {},
   "outputs": [
    {
     "name": "stdout",
     "output_type": "stream",
     "text": [
      "amir ali 21\n"
     ]
    }
   ],
   "source": [
    "# for one user\n",
    "class user:\n",
    "    def __init__(self, first, last, age):\n",
    "        self.name = first\n",
    "        self.last = last\n",
    "        self.age = age\n",
    "user1=user(\"amir\",\"ali\",21)\n",
    "print(user1.name, user1.last ,user1.age)"
   ]
  },
  {
   "cell_type": "code",
   "execution_count": 17,
   "metadata": {},
   "outputs": [
    {
     "name": "stdout",
     "output_type": "stream",
     "text": [
      "amir ali 21\n",
      "zain amin 21\n"
     ]
    }
   ],
   "source": [
    "# for two user\n",
    "class user:\n",
    "    def __init__(self, first, last, age):\n",
    "        self.name = first\n",
    "        self.last = last\n",
    "        self.age = age\n",
    "user1=user(\"amir\",\"ali\",21)\n",
    "user2=user(\"zain\",\"amin\",21)\n",
    "print(user1.name, user1.last ,user1.age)\n",
    "print(user2.name, user2.last ,user2.age)"
   ]
  },
  {
   "cell_type": "markdown",
   "metadata": {},
   "source": [
    "#### Underscore, Dunder and Mangling"
   ]
  },
  {
   "cell_type": "code",
   "execution_count": 4,
   "metadata": {},
   "outputs": [
    {
     "name": "stdout",
     "output_type": "stream",
     "text": [
      "tony\n",
      "hi\n",
      "i like truthles\n"
     ]
    }
   ],
   "source": [
    "class Person:\n",
    "    def __init__(self):\n",
    "        self.name = 'tony'\n",
    "        self._secret = 'hi'\n",
    "        self.__msg = 'i like truthles'\n",
    "p = Person()\n",
    "print(p.name)                 \n",
    "print(p._secret)          # Dunder\n",
    "print(p._Person__msg)    # Mangling"
   ]
  },
  {
   "cell_type": "markdown",
   "metadata": {},
   "source": [
    "#### instance attributes and methods"
   ]
  },
  {
   "cell_type": "code",
   "execution_count": 12,
   "metadata": {},
   "outputs": [
    {
     "name": "stdout",
     "output_type": "stream",
     "text": [
      "amir ali 21\n",
      "amir ali\n",
      "a.a\n",
      "amir likes Research\n",
      "True\n",
      "Happy 22th , amir\n"
     ]
    }
   ],
   "source": [
    "class User:\n",
    "    def __init__(self,first,last,age):           # these are instances attribute \n",
    "        self.first = first\n",
    "        self.last = last\n",
    "        self.age = age\n",
    "        \n",
    "    def full_name(self):                                           # these are instances method\n",
    "        return f\"{self.first} {self.last}\" \n",
    "    \n",
    "    def initials(self):                                            # instances method\n",
    "        return f\"{self.first[0]}.{self.last[0]}\"\n",
    "    \n",
    "    def likes(self, thing):\n",
    "        return f\"{self.first} likes {thing}\"\n",
    "    \n",
    "    def is_senior(self):\n",
    "        return self.age >=20\n",
    "    \n",
    "    def birthday(self):\n",
    "        self.age +=1\n",
    "        return f\"Happy {self.age}th , {self.first}\"\n",
    "    \n",
    "User1= User(\"amir\", \"ali\" , 21)\n",
    "print(User1.first, User1.last, User1.age)\n",
    "# 1st attribute\n",
    "print(User1.full_name()) \n",
    "# 2nd attribute\n",
    "print(User1.initials())\n",
    "# 3rd attribute\n",
    "print(User1.likes(\"Research\"))\n",
    "# 4th attribute\n",
    "print(User1.is_senior())\n",
    "# 5th atttribute\n",
    "print(User1.birthday())"
   ]
  },
  {
   "cell_type": "markdown",
   "metadata": {},
   "source": [
    "#### A user class with both instances and method"
   ]
  },
  {
   "cell_type": "code",
   "execution_count": 6,
   "metadata": {},
   "outputs": [
    {
     "name": "stdout",
     "output_type": "stream",
     "text": [
      "0\n",
      "3\n",
      "noman has logged out\n",
      "2\n",
      "zain has logged out\n",
      "1\n"
     ]
    }
   ],
   "source": [
    "class User:\n",
    "    \n",
    "    active_users = 0\n",
    "    \n",
    "    def __init__(self,first,last,age):\n",
    "        self.first = first\n",
    "        self.last = last\n",
    "        self.age = age\n",
    "        User.active_users +=1\n",
    "        \n",
    "    def logout(self):\n",
    "        User.active_users -=1\n",
    "        return f\"{self.first} has logged out\"\n",
    "        \n",
    "    def full_name(self):\n",
    "        return f\"{self.first} {self.last}\"\n",
    "    \n",
    "    def initials(self):\n",
    "        return f\"{self.first[0]}.{self.last[0]}\"\n",
    "    \n",
    "    def likes(self, thing):\n",
    "        return f\"{self.first} likes {thing}\"\n",
    "    \n",
    "    def is_senior(self):\n",
    "        return self.age >=20\n",
    "    \n",
    "    def birthday(self):\n",
    "        self.age +=1\n",
    "        return f\"Happy {self.age}th , {self.first}\"\n",
    "    \n",
    "print(User.active_users)\n",
    "user1 = User(\"amir\", \"ali\", 21)\n",
    "user2 = User(\"zain\", \"amin\", 21)\n",
    "user3 = User(\"noman\", 'nadeem', 21)\n",
    "print(User.active_users)\n",
    "print(user3.logout())\n",
    "print(User.active_users)\n",
    "print(user2.logout())\n",
    "print(User.active_users)"
   ]
  },
  {
   "cell_type": "markdown",
   "metadata": {},
   "source": [
    "##### above continous"
   ]
  },
  {
   "cell_type": "code",
   "execution_count": 11,
   "metadata": {},
   "outputs": [
    {
     "ename": "ValueError",
     "evalue": "You can't have monkey pet!",
     "output_type": "error",
     "traceback": [
      "\u001b[1;31m---------------------------------------------------------------------------\u001b[0m",
      "\u001b[1;31mValueError\u001b[0m                                Traceback (most recent call last)",
      "\u001b[1;32m<ipython-input-11-f01fb68b9301>\u001b[0m in \u001b[0;36m<module>\u001b[1;34m()\u001b[0m\n\u001b[0;32m      7\u001b[0m         \u001b[0mself\u001b[0m\u001b[1;33m.\u001b[0m\u001b[0mspecies\u001b[0m \u001b[1;33m=\u001b[0m \u001b[0mspecies\u001b[0m\u001b[1;33m\u001b[0m\u001b[0m\n\u001b[0;32m      8\u001b[0m \u001b[1;33m\u001b[0m\u001b[0m\n\u001b[1;32m----> 9\u001b[1;33m \u001b[0mpet\u001b[0m\u001b[1;33m(\u001b[0m\u001b[1;34m\"blue\"\u001b[0m\u001b[1;33m,\u001b[0m \u001b[1;34m\"monkey\"\u001b[0m\u001b[1;33m)\u001b[0m\u001b[1;33m\u001b[0m\u001b[0m\n\u001b[0m",
      "\u001b[1;32m<ipython-input-11-f01fb68b9301>\u001b[0m in \u001b[0;36m__init__\u001b[1;34m(self, name, species)\u001b[0m\n\u001b[0;32m      3\u001b[0m     \u001b[1;32mdef\u001b[0m \u001b[0m__init__\u001b[0m\u001b[1;33m(\u001b[0m\u001b[0mself\u001b[0m\u001b[1;33m,\u001b[0m \u001b[0mname\u001b[0m\u001b[1;33m,\u001b[0m \u001b[0mspecies\u001b[0m\u001b[1;33m)\u001b[0m\u001b[1;33m:\u001b[0m\u001b[1;33m\u001b[0m\u001b[0m\n\u001b[0;32m      4\u001b[0m         \u001b[1;32mif\u001b[0m \u001b[0mspecies\u001b[0m \u001b[1;32mnot\u001b[0m \u001b[1;32min\u001b[0m \u001b[0mpet\u001b[0m\u001b[1;33m.\u001b[0m\u001b[0mallowed\u001b[0m\u001b[1;33m:\u001b[0m\u001b[1;33m\u001b[0m\u001b[0m\n\u001b[1;32m----> 5\u001b[1;33m             \u001b[1;32mraise\u001b[0m \u001b[0mValueError\u001b[0m\u001b[1;33m(\u001b[0m\u001b[1;34mf\"You can't have {species} pet!\"\u001b[0m\u001b[1;33m)\u001b[0m\u001b[1;33m\u001b[0m\u001b[0m\n\u001b[0m\u001b[0;32m      6\u001b[0m         \u001b[0mself\u001b[0m\u001b[1;33m.\u001b[0m\u001b[0mname\u001b[0m \u001b[1;33m=\u001b[0m \u001b[0mname\u001b[0m\u001b[1;33m\u001b[0m\u001b[0m\n\u001b[0;32m      7\u001b[0m         \u001b[0mself\u001b[0m\u001b[1;33m.\u001b[0m\u001b[0mspecies\u001b[0m \u001b[1;33m=\u001b[0m \u001b[0mspecies\u001b[0m\u001b[1;33m\u001b[0m\u001b[0m\n",
      "\u001b[1;31mValueError\u001b[0m: You can't have monkey pet!"
     ]
    }
   ],
   "source": [
    "class pet:\n",
    "    allowed = ['cat', 'dog', 'fish', 'rat']\n",
    "    def __init__(self, name, species):\n",
    "        if species not in pet.allowed:\n",
    "            raise ValueError(f\"You can't have {species} pet!\")\n",
    "        self.name = name\n",
    "        self.species = species\n",
    "        \n",
    "pet(\"blue\", \"monkey\")\n"
   ]
  },
  {
   "cell_type": "code",
   "execution_count": 26,
   "metadata": {},
   "outputs": [
    {
     "data": {
      "text/plain": [
       "'rat'"
      ]
     },
     "execution_count": 26,
     "metadata": {},
     "output_type": "execute_result"
    }
   ],
   "source": [
    "# continous\n",
    "class pet:\n",
    "    allowed = ['cat', 'dog', 'fish', 'rat']\n",
    "    def __init__(self, name, species):\n",
    "        if species not in pet.allowed:\n",
    "            raise ValueError(f\"You can't have {species} pet!\")\n",
    "        self.name = name\n",
    "        self.species = species\n",
    "        \n",
    "    def set_species(self, species):\n",
    "        if species not in pet.allowed:\n",
    "            raise ValueError(f\"You can't have {species} pet!\")\n",
    "        self.species = species\n",
    "cat = pet('Blue', 'cat')\n",
    "dog = pet('white', 'dog')\n",
    "cat.set_species('rat')\n",
    "cat.species"
   ]
  },
  {
   "cell_type": "code",
   "execution_count": 22,
   "metadata": {},
   "outputs": [
    {
     "data": {
      "text/plain": [
       "['cat', 'dog', 'fish', 'rat']"
      ]
     },
     "execution_count": 22,
     "metadata": {},
     "output_type": "execute_result"
    }
   ],
   "source": [
    "pet.allowed"
   ]
  },
  {
   "cell_type": "code",
   "execution_count": 23,
   "metadata": {},
   "outputs": [
    {
     "data": {
      "text/plain": [
       "['cat', 'dog', 'fish', 'rat', 'pig']"
      ]
     },
     "execution_count": 23,
     "metadata": {},
     "output_type": "execute_result"
    }
   ],
   "source": [
    "pet.allowed.append('pig')\n",
    "pet.allowed"
   ]
  },
  {
   "cell_type": "code",
   "execution_count": 27,
   "metadata": {},
   "outputs": [
    {
     "data": {
      "text/plain": [
       "2628545667912"
      ]
     },
     "execution_count": 27,
     "metadata": {},
     "output_type": "execute_result"
    }
   ],
   "source": [
    "id(cat.allowed)"
   ]
  },
  {
   "cell_type": "code",
   "execution_count": 28,
   "metadata": {},
   "outputs": [
    {
     "data": {
      "text/plain": [
       "2628545667912"
      ]
     },
     "execution_count": 28,
     "metadata": {},
     "output_type": "execute_result"
    }
   ],
   "source": [
    "id(dog.allowed)"
   ]
  },
  {
   "cell_type": "code",
   "execution_count": 29,
   "metadata": {},
   "outputs": [
    {
     "data": {
      "text/plain": [
       "2628545667912"
      ]
     },
     "execution_count": 29,
     "metadata": {},
     "output_type": "execute_result"
    }
   ],
   "source": [
    "id(pet.allowed)"
   ]
  },
  {
   "cell_type": "markdown",
   "metadata": {},
   "source": [
    "#### Class Method"
   ]
  },
  {
   "cell_type": "code",
   "execution_count": 4,
   "metadata": {},
   "outputs": [
    {
     "name": "stdout",
     "output_type": "stream",
     "text": [
      "There are currently 3 active user\n",
      "There are currently 6 active user\n"
     ]
    }
   ],
   "source": [
    "class User:\n",
    "    \n",
    "    active_users = 0\n",
    "    \n",
    "    @classmethod\n",
    "    def display_active_users(cls):\n",
    "        return f\"There are currently {cls.active_users} active user\"\n",
    "    \n",
    "    def __init__(self,first,last,age):\n",
    "        self.first = first\n",
    "        self.last = last\n",
    "        self.age = age\n",
    "        User.active_users +=1\n",
    "        \n",
    "    def logout(self):\n",
    "        User.active_users -=1\n",
    "        return f\"{self.first} has logged out\"\n",
    "        \n",
    "    def full_name(self):\n",
    "        return f\"{self.first} {self.last}\"\n",
    "    \n",
    "    def initials(self):\n",
    "        return f\"{self.first[0]}.{self.last[0]}\"\n",
    "    \n",
    "    def likes(self, thing):\n",
    "        return f\"{self.first} likes {thing}\"\n",
    "    \n",
    "    def is_senior(self):\n",
    "        return self.age >=20\n",
    "    \n",
    "    def birthday(self):\n",
    "        self.age +=1\n",
    "        return f\"Happy {self.age}th , {self.first}\"\n",
    "    \n",
    "user1 = User(\"amir\", \"ali\", 21)\n",
    "user2 = User(\"zain\", \"amin\", 21)\n",
    "user3 = User(\"noman\", 'nadeem', 21)\n",
    "print(User.display_active_users())\n",
    "user1 = User(\"amir\", \"ali\", 21)\n",
    "user2 = User(\"zain\", \"amin\", 21)\n",
    "user3 = User(\"noman\", 'nadeem', 21)\n",
    "print(User.display_active_users())"
   ]
  },
  {
   "cell_type": "markdown",
   "metadata": {},
   "source": [
    "#### More advanced class method"
   ]
  },
  {
   "cell_type": "code",
   "execution_count": 4,
   "metadata": {},
   "outputs": [
    {
     "name": "stdout",
     "output_type": "stream",
     "text": [
      "Tom\n",
      "Tom Jones\n"
     ]
    }
   ],
   "source": [
    "class User:\n",
    "    \n",
    "    active_users = 0\n",
    "    \n",
    "    @classmethod\n",
    "    def display_active_users(clas):\n",
    "        return f\"There are currently {cls.active_users} active user\"\n",
    "    \n",
    "    @classmethod\n",
    "    def from_string(cls, data_str):\n",
    "        first, last, age = data_str.split(\",\")\n",
    "        return cls(first, last, int(age))\n",
    "    \n",
    "    def __init__(self,first,last,age):\n",
    "        self.first = first\n",
    "        self.last = last\n",
    "        self.age = age\n",
    "        User.active_users +=1\n",
    "        \n",
    "    def logout(self):\n",
    "        User.active_users -=1\n",
    "        return f\"{self.first} has logged out\"\n",
    "        \n",
    "    def full_name(self):\n",
    "        return f\"{self.first} {self.last}\"\n",
    "    \n",
    "    def initials(self):\n",
    "        return f\"{self.first[0]}.{self.last[0]}\"\n",
    "    \n",
    "    def likes(self, thing):\n",
    "        return f\"{self.first} likes {thing}\"\n",
    "    \n",
    "    def is_senior(self):\n",
    "        return self.age >=20\n",
    "    \n",
    "    def birthday(self):\n",
    "        self.age +=1\n",
    "        return f\"Happy {self.age}th , {self.first}\"\n",
    "    \n",
    "tom = User.from_string(\"Tom,Jones,89\")\n",
    "print(tom.first)\n",
    "print(tom.full_name())"
   ]
  },
  {
   "cell_type": "markdown",
   "metadata": {},
   "source": [
    "##### The __repr__ method"
   ]
  },
  {
   "cell_type": "code",
   "execution_count": 6,
   "metadata": {},
   "outputs": [
    {
     "name": "stdout",
     "output_type": "stream",
     "text": [
      "judy is 18\n"
     ]
    }
   ],
   "source": [
    "\n",
    "class User:\n",
    "    \n",
    "    active_users = 0\n",
    "    \n",
    "    @classmethod\n",
    "    def display_active_users(clas):\n",
    "        return f\"There are currently {cls.active_users} active user\"\n",
    "    \n",
    "    @classmethod\n",
    "    def from_string(cls, data_str):\n",
    "        first, last, age = data_str.split(\",\")\n",
    "        return cls(first, last, int(age))\n",
    "    \n",
    "    def __init__(self,first,last,age):\n",
    "        self.first = first\n",
    "        self.last = last\n",
    "        self.age = age\n",
    "        User.active_users +=1\n",
    "        \n",
    "    def __repr__(self):\n",
    "        return f\"{self.first} is {self.age}\"\n",
    "        \n",
    "    def logout(self):\n",
    "        User.active_users -=1\n",
    "        return f\"{self.first} has logged out\"\n",
    "        \n",
    "    def full_name(self):\n",
    "        return f\"{self.first} {self.last}\"\n",
    "    \n",
    "    def initials(self):\n",
    "        return f\"{self.first[0]}.{self.last[0]}\"\n",
    "    \n",
    "    def likes(self, thing):\n",
    "        return f\"{self.first} likes {thing}\"\n",
    "    \n",
    "    def is_senior(self):\n",
    "        return self.age >=20\n",
    "    \n",
    "    def birthday(self):\n",
    "        self.age +=1\n",
    "        return f\"Happy {self.age}th , {self.first}\"\n",
    "    \n",
    "tom = User.from_string(\"Tom, Jones, 89\")\n",
    "j = User(\"judy\", \"steele\", 18)\n",
    "j = str(j)\n",
    "print(j)"
   ]
  },
  {
   "cell_type": "code",
   "execution_count": null,
   "metadata": {},
   "outputs": [],
   "source": []
  }
 ],
 "metadata": {
  "kernelspec": {
   "display_name": "Python 3",
   "language": "python",
   "name": "python3"
  },
  "language_info": {
   "codemirror_mode": {
    "name": "ipython",
    "version": 3
   },
   "file_extension": ".py",
   "mimetype": "text/x-python",
   "name": "python",
   "nbconvert_exporter": "python",
   "pygments_lexer": "ipython3",
   "version": "3.6.1"
  }
 },
 "nbformat": 4,
 "nbformat_minor": 2
}
